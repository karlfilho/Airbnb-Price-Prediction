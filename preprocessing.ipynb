{
 "cells": [
  {
   "cell_type": "markdown",
   "metadata": {},
   "source": [
    "# 2. Getting started"
   ]
  },
  {
   "cell_type": "markdown",
   "metadata": {},
   "source": [
    "## Loading necessary libraries"
   ]
  },
  {
   "cell_type": "code",
   "execution_count": 8,
   "metadata": {},
   "outputs": [],
   "source": [
    "import pandas as pd"
   ]
  },
  {
   "cell_type": "markdown",
   "metadata": {},
   "source": [
    "## Loading JSON dataset and dropping some columns"
   ]
  },
  {
   "cell_type": "code",
   "execution_count": 13,
   "metadata": {},
   "outputs": [
    {
     "data": {
      "text/html": [
       "<div>\n",
       "<style scoped>\n",
       "    .dataframe tbody tr th:only-of-type {\n",
       "        vertical-align: middle;\n",
       "    }\n",
       "\n",
       "    .dataframe tbody tr th {\n",
       "        vertical-align: top;\n",
       "    }\n",
       "\n",
       "    .dataframe thead th {\n",
       "        text-align: right;\n",
       "    }\n",
       "</style>\n",
       "<table border=\"1\" class=\"dataframe\">\n",
       "  <thead>\n",
       "    <tr style=\"text-align: right;\">\n",
       "      <th></th>\n",
       "      <th>roomTitle</th>\n",
       "      <th>roomPrice</th>\n",
       "      <th>roomURL</th>\n",
       "      <th>hostType</th>\n",
       "    </tr>\n",
       "  </thead>\n",
       "  <tbody>\n",
       "    <tr>\n",
       "      <th>0</th>\n",
       "      <td>Loft em Campos do Jordão</td>\n",
       "      <td>R$268 por noite</td>\n",
       "      <td>https://www.airbnb.com/rooms/92836566916150808...</td>\n",
       "      <td>Preferido dos hóspedes\\nPreferido dos hóspedes</td>\n",
       "    </tr>\n",
       "    <tr>\n",
       "      <th>1</th>\n",
       "      <td>Loft em Campos do Jordão</td>\n",
       "      <td>R$99 por noite</td>\n",
       "      <td>https://www.airbnb.com/rooms/53832612?adults=2...</td>\n",
       "      <td>Preferido dos hóspedes\\nPreferido dos hóspedes</td>\n",
       "    </tr>\n",
       "  </tbody>\n",
       "</table>\n",
       "</div>"
      ],
      "text/plain": [
       "                  roomTitle        roomPrice  \\\n",
       "0  Loft em Campos do Jordão  R$268 por noite   \n",
       "1  Loft em Campos do Jordão   R$99 por noite   \n",
       "\n",
       "                                             roomURL  \\\n",
       "0  https://www.airbnb.com/rooms/92836566916150808...   \n",
       "1  https://www.airbnb.com/rooms/53832612?adults=2...   \n",
       "\n",
       "                                         hostType  \n",
       "0  Preferido dos hóspedes\\nPreferido dos hóspedes  \n",
       "1  Preferido dos hóspedes\\nPreferido dos hóspedes  "
      ]
     },
     "execution_count": 13,
     "metadata": {},
     "output_type": "execute_result"
    }
   ],
   "source": [
    "airbnb = pd.read_json(\"C:\\Github\\Data_Science_Portfolio\\Airbnb-Price-Prediction\\octoparse_airbnb_v1.json\")\n",
    "airbnb = airbnb.drop(columns= [\"Keyword\", \"Host\", \"roomName\", \"roomRating\", \"roomReviewcount\"])\n",
    "\n",
    "airbnb.head(2)"
   ]
  },
  {
   "cell_type": "code",
   "execution_count": 5,
   "metadata": {},
   "outputs": [
    {
     "name": "stdout",
     "output_type": "stream",
     "text": [
      "<class 'pandas.core.frame.DataFrame'>\n",
      "RangeIndex: 672 entries, 0 to 671\n",
      "Data columns (total 6 columns):\n",
      " #   Column           Non-Null Count  Dtype \n",
      "---  ------           --------------  ----- \n",
      " 0   roomTitle        672 non-null    object\n",
      " 1   roomRating       672 non-null    object\n",
      " 2   roomReviewcount  672 non-null    object\n",
      " 3   roomPrice        672 non-null    object\n",
      " 4   roomURL          672 non-null    object\n",
      " 5   hostType         672 non-null    object\n",
      "dtypes: object(6)\n",
      "memory usage: 31.6+ KB\n"
     ]
    }
   ],
   "source": [
    "airbnb.info()"
   ]
  },
  {
   "cell_type": "code",
   "execution_count": 14,
   "metadata": {},
   "outputs": [
    {
     "data": {
      "text/html": [
       "<div>\n",
       "<style scoped>\n",
       "    .dataframe tbody tr th:only-of-type {\n",
       "        vertical-align: middle;\n",
       "    }\n",
       "\n",
       "    .dataframe tbody tr th {\n",
       "        vertical-align: top;\n",
       "    }\n",
       "\n",
       "    .dataframe thead th {\n",
       "        text-align: right;\n",
       "    }\n",
       "</style>\n",
       "<table border=\"1\" class=\"dataframe\">\n",
       "  <thead>\n",
       "    <tr style=\"text-align: right;\">\n",
       "      <th></th>\n",
       "      <th>Page_URL</th>\n",
       "      <th>Rating</th>\n",
       "      <th>Number_of_Reviews</th>\n",
       "      <th>Amenities</th>\n",
       "    </tr>\n",
       "  </thead>\n",
       "  <tbody>\n",
       "    <tr>\n",
       "      <th>0</th>\n",
       "      <td>https://www.airbnb.com/rooms/11369075570005485...</td>\n",
       "      <td></td>\n",
       "      <td></td>\n",
       "      <td>Kitchen\\nWifi\\nFree parking on premises\\nHot t...</td>\n",
       "    </tr>\n",
       "    <tr>\n",
       "      <th>1</th>\n",
       "      <td>https://www.airbnb.com/rooms/92836566916150808...</td>\n",
       "      <td>4.89</td>\n",
       "      <td>74</td>\n",
       "      <td></td>\n",
       "    </tr>\n",
       "  </tbody>\n",
       "</table>\n",
       "</div>"
      ],
      "text/plain": [
       "                                            Page_URL Rating Number_of_Reviews  \\\n",
       "0  https://www.airbnb.com/rooms/11369075570005485...                            \n",
       "1  https://www.airbnb.com/rooms/92836566916150808...   4.89                74   \n",
       "\n",
       "                                           Amenities  \n",
       "0  Kitchen\\nWifi\\nFree parking on premises\\nHot t...  \n",
       "1                                                     "
      ]
     },
     "execution_count": 14,
     "metadata": {},
     "output_type": "execute_result"
    }
   ],
   "source": [
    "airbnb2 = pd.read_json('C:\\\\Github\\\\Data_Science_Portfolio\\\\Airbnb-Price-Prediction\\\\octoparse_airbnb_v2.json')\n",
    "airbnb2 = airbnb2.drop(columns= [\"Title\", \"Location\", \"Number_of_Guests\", \"Number_of_Bedrooms\", \"Number_of_Beds\", \"Number_of_Bath\", \"Price\", \"Sleeping_Arrangements\", \"Hosted_by\", \"Response_Rate\", \"Image_1\", \"Image_2\", \"Image_3\", \"Current_Time\"])\n",
    "airbnb2.head(2)"
   ]
  },
  {
   "cell_type": "markdown",
   "metadata": {},
   "source": [
    "# 3. Joining DataFrames"
   ]
  },
  {
   "cell_type": "code",
   "execution_count": 19,
   "metadata": {},
   "outputs": [
    {
     "name": "stdout",
     "output_type": "stream",
     "text": [
      "<class 'pandas.core.frame.DataFrame'>\n",
      "RangeIndex: 669 entries, 0 to 668\n",
      "Data columns (total 8 columns):\n",
      " #   Column             Non-Null Count  Dtype \n",
      "---  ------             --------------  ----- \n",
      " 0   roomTitle          669 non-null    object\n",
      " 1   roomPrice          669 non-null    object\n",
      " 2   roomURL            669 non-null    object\n",
      " 3   hostType           669 non-null    object\n",
      " 4   Page_URL           669 non-null    object\n",
      " 5   Rating             669 non-null    object\n",
      " 6   Number_of_Reviews  669 non-null    object\n",
      " 7   Amenities          669 non-null    object\n",
      "dtypes: object(8)\n",
      "memory usage: 41.9+ KB\n",
      "None\n",
      "                  roomTitle        roomPrice  \\\n",
      "0  Loft em Campos do Jordão  R$268 por noite   \n",
      "1  Loft em Campos do Jordão   R$99 por noite   \n",
      "\n",
      "                                             roomURL  \\\n",
      "0  https://www.airbnb.com/rooms/92836566916150808...   \n",
      "1  https://www.airbnb.com/rooms/53832612?adults=2...   \n",
      "\n",
      "                                         hostType  \\\n",
      "0  Preferido dos hóspedes\\nPreferido dos hóspedes   \n",
      "1  Preferido dos hóspedes\\nPreferido dos hóspedes   \n",
      "\n",
      "                                            Page_URL Rating Number_of_Reviews  \\\n",
      "0  https://www.airbnb.com/rooms/92836566916150808...   4.89                74   \n",
      "1  https://www.airbnb.com/rooms/53832612?adults=2...   4.95               148   \n",
      "\n",
      "                                           Amenities  \n",
      "0                                                     \n",
      "1  Kitchen\\nFast wifi – 354 Mbps\\nDedicated works...  \n"
     ]
    }
   ],
   "source": [
    "merged_df = pd.merge(airbnb, airbnb2, left_on='roomURL', right_on='Page_URL')\n",
    "df = merged_df.drop(columns=[\"roomURL\", \"Page_URL\"])\n",
    "print(merged_df.info())\n",
    "print(merged_df.head(2))\n"
   ]
  },
  {
   "cell_type": "markdown",
   "metadata": {},
   "source": [
    "# 4. Cleaning"
   ]
  },
  {
   "cell_type": "code",
   "execution_count": 23,
   "metadata": {},
   "outputs": [],
   "source": [
    "# Renaming columns for consistency\n",
    "df.rename(columns={\n",
    "    'roomTitle' : 'roomType',\n",
    "    'Rating' : 'rating',\n",
    "    'Number_of_Reviews' : 'numberReviews',\n",
    "    'Amenities': 'amenities',\n",
    "}, inplace=True)"
   ]
  },
  {
   "cell_type": "code",
   "execution_count": 26,
   "metadata": {},
   "outputs": [],
   "source": [
    "# Drop duplicate rows\n",
    "df.drop_duplicates(inplace=True)"
   ]
  },
  {
   "cell_type": "code",
   "execution_count": 27,
   "metadata": {},
   "outputs": [
    {
     "name": "stdout",
     "output_type": "stream",
     "text": [
      "Empty DataFrame\n",
      "Columns: [roomType, roomPrice, hostType, rating, numberReviews, amenities]\n",
      "Index: []\n"
     ]
    }
   ],
   "source": [
    "# Find rows with missing values\n",
    "missing = df[df.isnull().any(axis=1)]\n",
    "\n",
    "# Display rows with missing values\n",
    "print(missing)"
   ]
  },
  {
   "cell_type": "code",
   "execution_count": 28,
   "metadata": {},
   "outputs": [
    {
     "data": {
      "text/html": [
       "<div>\n",
       "<style scoped>\n",
       "    .dataframe tbody tr th:only-of-type {\n",
       "        vertical-align: middle;\n",
       "    }\n",
       "\n",
       "    .dataframe tbody tr th {\n",
       "        vertical-align: top;\n",
       "    }\n",
       "\n",
       "    .dataframe thead th {\n",
       "        text-align: right;\n",
       "    }\n",
       "</style>\n",
       "<table border=\"1\" class=\"dataframe\">\n",
       "  <thead>\n",
       "    <tr style=\"text-align: right;\">\n",
       "      <th></th>\n",
       "      <th>roomType</th>\n",
       "      <th>roomPrice</th>\n",
       "      <th>hostType</th>\n",
       "      <th>rating</th>\n",
       "      <th>numberReviews</th>\n",
       "      <th>amenities</th>\n",
       "    </tr>\n",
       "  </thead>\n",
       "  <tbody>\n",
       "    <tr>\n",
       "      <th>0</th>\n",
       "      <td>Loft em Campos do Jordão</td>\n",
       "      <td>R$268 por noite</td>\n",
       "      <td>Preferido dos hóspedes\\nPreferido dos hóspedes</td>\n",
       "      <td>4.89</td>\n",
       "      <td>74</td>\n",
       "      <td></td>\n",
       "    </tr>\n",
       "    <tr>\n",
       "      <th>1</th>\n",
       "      <td>Loft em Campos do Jordão</td>\n",
       "      <td>R$99 por noite</td>\n",
       "      <td>Preferido dos hóspedes\\nPreferido dos hóspedes</td>\n",
       "      <td>4.95</td>\n",
       "      <td>148</td>\n",
       "      <td>Kitchen\\nFast wifi – 354 Mbps\\nDedicated works...</td>\n",
       "    </tr>\n",
       "    <tr>\n",
       "      <th>2</th>\n",
       "      <td>Chalé em Jd do Pai</td>\n",
       "      <td>R$329 por noite</td>\n",
       "      <td>Preferido dos hóspedes\\nPreferido dos hóspedes</td>\n",
       "      <td>4.94</td>\n",
       "      <td>319</td>\n",
       "      <td>Courtyard view\\nGarden view\\nKitchen\\nWifi\\nDe...</td>\n",
       "    </tr>\n",
       "    <tr>\n",
       "      <th>3</th>\n",
       "      <td>Chalé em Campos do Jordão</td>\n",
       "      <td>R$595 por noite</td>\n",
       "      <td>Superhost\\nSuperhost</td>\n",
       "      <td>5.0</td>\n",
       "      <td>3</td>\n",
       "      <td></td>\n",
       "    </tr>\n",
       "    <tr>\n",
       "      <th>4</th>\n",
       "      <td>Quarto de hotel em V Inglesa</td>\n",
       "      <td>R$276 por noite</td>\n",
       "      <td>Preferido dos hóspedes\\nPreferido dos hóspedes</td>\n",
       "      <td>4.93</td>\n",
       "      <td>507</td>\n",
       "      <td>Wifi\\nFree parking on premises\\nPets allowed\\n...</td>\n",
       "    </tr>\n",
       "  </tbody>\n",
       "</table>\n",
       "</div>"
      ],
      "text/plain": [
       "                       roomType        roomPrice  \\\n",
       "0      Loft em Campos do Jordão  R$268 por noite   \n",
       "1      Loft em Campos do Jordão   R$99 por noite   \n",
       "2            Chalé em Jd do Pai  R$329 por noite   \n",
       "3     Chalé em Campos do Jordão  R$595 por noite   \n",
       "4  Quarto de hotel em V Inglesa  R$276 por noite   \n",
       "\n",
       "                                         hostType rating numberReviews  \\\n",
       "0  Preferido dos hóspedes\\nPreferido dos hóspedes   4.89            74   \n",
       "1  Preferido dos hóspedes\\nPreferido dos hóspedes   4.95           148   \n",
       "2  Preferido dos hóspedes\\nPreferido dos hóspedes   4.94           319   \n",
       "3                            Superhost\\nSuperhost    5.0             3   \n",
       "4  Preferido dos hóspedes\\nPreferido dos hóspedes   4.93           507   \n",
       "\n",
       "                                           amenities  \n",
       "0                                                     \n",
       "1  Kitchen\\nFast wifi – 354 Mbps\\nDedicated works...  \n",
       "2  Courtyard view\\nGarden view\\nKitchen\\nWifi\\nDe...  \n",
       "3                                                     \n",
       "4  Wifi\\nFree parking on premises\\nPets allowed\\n...  "
      ]
     },
     "execution_count": 28,
     "metadata": {},
     "output_type": "execute_result"
    }
   ],
   "source": [
    "df.head()"
   ]
  },
  {
   "cell_type": "code",
   "execution_count": 34,
   "metadata": {},
   "outputs": [
    {
     "data": {
      "text/plain": [
       "roomType\n",
       "Casa           80\n",
       "Apartamento    65\n",
       "Cabana         63\n",
       "Quarto         57\n",
       "Chalé          49\n",
       "Loft           33\n",
       "Microcasa      28\n",
       "Hotel          12\n",
       "Lugar          10\n",
       "Contêiner       8\n",
       "Pousada         7\n",
       "Condomínio      6\n",
       "Suíte           6\n",
       "Trailer         2\n",
       "Name: count, dtype: int64"
      ]
     },
     "execution_count": 34,
     "metadata": {},
     "output_type": "execute_result"
    }
   ],
   "source": [
    "df['roomType'] = df['roomType'].str.split().str[0]\n",
    "\n",
    "df['roomType'] = df['roomType'].astype('category')\n",
    "\n",
    "df['roomType'].value_counts()"
   ]
  },
  {
   "cell_type": "code",
   "execution_count": 35,
   "metadata": {},
   "outputs": [
    {
     "data": {
      "text/html": [
       "<div>\n",
       "<style scoped>\n",
       "    .dataframe tbody tr th:only-of-type {\n",
       "        vertical-align: middle;\n",
       "    }\n",
       "\n",
       "    .dataframe tbody tr th {\n",
       "        vertical-align: top;\n",
       "    }\n",
       "\n",
       "    .dataframe thead th {\n",
       "        text-align: right;\n",
       "    }\n",
       "</style>\n",
       "<table border=\"1\" class=\"dataframe\">\n",
       "  <thead>\n",
       "    <tr style=\"text-align: right;\">\n",
       "      <th></th>\n",
       "      <th>roomType</th>\n",
       "      <th>roomPrice</th>\n",
       "      <th>hostType</th>\n",
       "      <th>rating</th>\n",
       "      <th>numberReviews</th>\n",
       "      <th>amenities</th>\n",
       "    </tr>\n",
       "  </thead>\n",
       "  <tbody>\n",
       "    <tr>\n",
       "      <th>0</th>\n",
       "      <td>Loft</td>\n",
       "      <td>268.0</td>\n",
       "      <td>Preferido dos hóspedes\\nPreferido dos hóspedes</td>\n",
       "      <td>4.89</td>\n",
       "      <td>74</td>\n",
       "      <td></td>\n",
       "    </tr>\n",
       "    <tr>\n",
       "      <th>1</th>\n",
       "      <td>Loft</td>\n",
       "      <td>99.0</td>\n",
       "      <td>Preferido dos hóspedes\\nPreferido dos hóspedes</td>\n",
       "      <td>4.95</td>\n",
       "      <td>148</td>\n",
       "      <td>Kitchen\\nFast wifi – 354 Mbps\\nDedicated works...</td>\n",
       "    </tr>\n",
       "    <tr>\n",
       "      <th>2</th>\n",
       "      <td>Chalé</td>\n",
       "      <td>329.0</td>\n",
       "      <td>Preferido dos hóspedes\\nPreferido dos hóspedes</td>\n",
       "      <td>4.94</td>\n",
       "      <td>319</td>\n",
       "      <td>Courtyard view\\nGarden view\\nKitchen\\nWifi\\nDe...</td>\n",
       "    </tr>\n",
       "    <tr>\n",
       "      <th>3</th>\n",
       "      <td>Chalé</td>\n",
       "      <td>595.0</td>\n",
       "      <td>Superhost\\nSuperhost</td>\n",
       "      <td>5.0</td>\n",
       "      <td>3</td>\n",
       "      <td></td>\n",
       "    </tr>\n",
       "    <tr>\n",
       "      <th>4</th>\n",
       "      <td>Quarto</td>\n",
       "      <td>276.0</td>\n",
       "      <td>Preferido dos hóspedes\\nPreferido dos hóspedes</td>\n",
       "      <td>4.93</td>\n",
       "      <td>507</td>\n",
       "      <td>Wifi\\nFree parking on premises\\nPets allowed\\n...</td>\n",
       "    </tr>\n",
       "  </tbody>\n",
       "</table>\n",
       "</div>"
      ],
      "text/plain": [
       "  roomType  roomPrice                                        hostType rating  \\\n",
       "0     Loft      268.0  Preferido dos hóspedes\\nPreferido dos hóspedes   4.89   \n",
       "1     Loft       99.0  Preferido dos hóspedes\\nPreferido dos hóspedes   4.95   \n",
       "2    Chalé      329.0  Preferido dos hóspedes\\nPreferido dos hóspedes   4.94   \n",
       "3    Chalé      595.0                            Superhost\\nSuperhost    5.0   \n",
       "4   Quarto      276.0  Preferido dos hóspedes\\nPreferido dos hóspedes   4.93   \n",
       "\n",
       "  numberReviews                                          amenities  \n",
       "0            74                                                     \n",
       "1           148  Kitchen\\nFast wifi – 354 Mbps\\nDedicated works...  \n",
       "2           319  Courtyard view\\nGarden view\\nKitchen\\nWifi\\nDe...  \n",
       "3             3                                                     \n",
       "4           507  Wifi\\nFree parking on premises\\nPets allowed\\n...  "
      ]
     },
     "execution_count": 35,
     "metadata": {},
     "output_type": "execute_result"
    }
   ],
   "source": [
    "df['roomPrice'] = df['roomPrice'].str.extract('(\\d+)').astype(float)\n",
    "df.head()"
   ]
  },
  {
   "cell_type": "code",
   "execution_count": 44,
   "metadata": {},
   "outputs": [
    {
     "data": {
      "text/plain": [
       "hostType\n",
       "preferido    309\n",
       "no_class      75\n",
       "superhost     45\n",
       "Name: count, dtype: int64"
      ]
     },
     "execution_count": 44,
     "metadata": {},
     "output_type": "execute_result"
    }
   ],
   "source": [
    "df['hostType'] = df['hostType'].replace({\n",
    "    'Preferido dos\\xa0hóspedes\\nPreferido dos\\xa0hóspedes' : 'preferido',\n",
    "    'Superhost\\nSuperhost' : 'superhost',\n",
    "    'De 18 a 20 de set.\\n18 – 20 de set.' : 'no_class',\n",
    "    '' : 'no_class'\n",
    "}).astype('category')\n",
    "\n",
    "df['hostType'].value_counts()"
   ]
  },
  {
   "cell_type": "code",
   "execution_count": 48,
   "metadata": {},
   "outputs": [
    {
     "name": "stdout",
     "output_type": "stream",
     "text": [
      "rating\n",
      "False    429\n",
      "Name: count, dtype: int64\n"
     ]
    }
   ],
   "source": [
    "print(df['rating'].isna().value_counts())"
   ]
  },
  {
   "cell_type": "code",
   "execution_count": 49,
   "metadata": {},
   "outputs": [
    {
     "name": "stdout",
     "output_type": "stream",
     "text": [
      "numberReviews\n",
      "False    429\n",
      "Name: count, dtype: int64\n"
     ]
    }
   ],
   "source": [
    "print(df['numberReviews'].isna().value_counts())"
   ]
  },
  {
   "cell_type": "code",
   "execution_count": 52,
   "metadata": {},
   "outputs": [
    {
     "data": {
      "text/plain": [
       "                                                                                                                                                                                                                                                                                        1\n",
       "Bedroom\\nStep-free access\\nBedroom 2\\nStep-free access\\nFull bathroom\\nStep-free access\\nFull bathroom 2\\nStep-free access\\nHalf bathroom\\nStep-free access\\nFull kitchen\\nStep-free access\\nLaundry room\\nStep-free access                                                             1\n",
       "City skyline view\\nCourtyard view\\nKitchen\\nWifi\\nDedicated workspace\\nFree parking on premises\\nPets allowed\\nTV\\nShared backyard\\nUnavailable: Carbon monoxide alarm\\nCarbon monoxide alarm                                                                                           1\n",
       "City skyline view\\nCourtyard view\\nKitchen\\nWifi\\nDedicated workspace\\nFree parking on premises\\nShared indoor pool - available all year, open specific hours, heated\\nShared hot tub - available all year, open specific hours\\nShared sauna\\nExterior security cameras on property    1\n",
       "City skyline view\\nGarden view\\nKitchen\\nWifi\\nFree parking on premises\\nTV\\nElevator\\nIndoor fireplace: wood-burning\\nMicrowave\\nLong term stays allowed                                                                                                                               1\n",
       "                                                                                                                                                                                                                                                                                       ..\n",
       "Wifi\\nFree parking on premises\\nTV\\nAir conditioning\\nLuggage dropoff allowed\\nHair dryer\\nBreakfast\\nExterior security cameras on property\\nUnavailable: Carbon monoxide alarm\\nCarbon monoxide alarm\\nUnavailable: Smoke alarm\\nSmoke alarm                                           1\n",
       "Wifi\\nFree parking on premises\\nTV\\nElevator\\nAir conditioning\\nLuggage dropoff allowed\\nHair dryer\\nExterior security cameras on property\\nUnavailable: Carbon monoxide alarm\\nCarbon monoxide alarm\\nUnavailable: Smoke alarm\\nSmoke alarm                                            1\n",
       "Wifi\\nFree parking on premises\\nTV\\nUnavailable: Carbon monoxide alarm\\nCarbon monoxide alarm\\nUnavailable: Smoke alarm\\nSmoke alarm                                                                                                                                                    1\n",
       "Wifi\\nFree street parking\\nTV\\nLong term stays allowed\\nUnavailable: Carbon monoxide alarm\\nCarbon monoxide alarm\\nUnavailable: Smoke alarm\\nSmoke alarm                                                                                                                                1\n",
       "Wifi\\nTV\\nUnavailable: Carbon monoxide alarm\\nCarbon monoxide alarm\\nUnavailable: Smoke alarm\\nSmoke alarm                                                                                                                                                                              1\n",
       "Name: count, Length: 231, dtype: int64"
      ]
     },
     "execution_count": 52,
     "metadata": {},
     "output_type": "execute_result"
    }
   ],
   "source": [
    "df['amenities'] = df['amenities'].astype('category')\n",
    "df['amenities'].unique().value_counts()"
   ]
  },
  {
   "cell_type": "code",
   "execution_count": 54,
   "metadata": {},
   "outputs": [
    {
     "name": "stdout",
     "output_type": "stream",
     "text": [
      "<class 'pandas.core.frame.DataFrame'>\n",
      "Index: 429 entries, 0 to 668\n",
      "Data columns (total 6 columns):\n",
      " #   Column         Non-Null Count  Dtype   \n",
      "---  ------         --------------  -----   \n",
      " 0   roomType       426 non-null    category\n",
      " 1   roomPrice      428 non-null    float64 \n",
      " 2   hostType       429 non-null    category\n",
      " 3   rating         429 non-null    object  \n",
      " 4   numberReviews  429 non-null    object  \n",
      " 5   amenities      429 non-null    category\n",
      "dtypes: category(3), float64(1), object(2)\n",
      "memory usage: 41.9+ KB\n"
     ]
    }
   ],
   "source": [
    "df.info()"
   ]
  }
 ],
 "metadata": {
  "kernelspec": {
   "display_name": "Python 3",
   "language": "python",
   "name": "python3"
  },
  "language_info": {
   "codemirror_mode": {
    "name": "ipython",
    "version": 3
   },
   "file_extension": ".py",
   "mimetype": "text/x-python",
   "name": "python",
   "nbconvert_exporter": "python",
   "pygments_lexer": "ipython3",
   "version": "3.11.4"
  }
 },
 "nbformat": 4,
 "nbformat_minor": 2
}
