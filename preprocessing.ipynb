{
 "cells": [
  {
   "cell_type": "markdown",
   "metadata": {},
   "source": [
    "# 2. Getting started"
   ]
  },
  {
   "cell_type": "markdown",
   "metadata": {},
   "source": [
    "## Loading necessary libraries"
   ]
  },
  {
   "cell_type": "code",
   "execution_count": null,
   "metadata": {},
   "outputs": [],
   "source": [
    "import pandas as pd"
   ]
  },
  {
   "cell_type": "markdown",
   "metadata": {},
   "source": [
    "## Loading JSON dataset and dropping some columns"
   ]
  },
  {
   "cell_type": "code",
   "execution_count": null,
   "metadata": {},
   "outputs": [],
   "source": [
    "airbnb = pd.read_json(\"C:\\Github\\Data_Science_Portfolio\\Airbnb-Price-Prediction\\octoparse_airbnb_v1.json\", encoding='latin-1')\n",
    "airbnb = airbnb.drop(columns= [\"Keyword\", \"Host\", \"roomName\", \"roomRating\", \"roomReviewcount\"])\n",
    "\n",
    "airbnb.head(2)"
   ]
  },
  {
   "cell_type": "code",
   "execution_count": null,
   "metadata": {},
   "outputs": [],
   "source": [
    "airbnb.info()"
   ]
  },
  {
   "cell_type": "code",
   "execution_count": null,
   "metadata": {},
   "outputs": [],
   "source": [
    "airbnb2 = pd.read_json('C:\\\\Github\\\\Data_Science_Portfolio\\\\Airbnb-Price-Prediction\\\\octoparse_airbnb_v2.json', encoding='latin-1')\n",
    "airbnb2 = airbnb2.drop(columns= [\"Title\", \"Location\", \"Number_of_Guests\", \"Number_of_Bedrooms\", \"Number_of_Beds\", \"Number_of_Bath\", \"Price\", \"Sleeping_Arrangements\", \"Hosted_by\", \"Response_Rate\", \"Image_1\", \"Image_2\", \"Image_3\", \"Current_Time\"])\n",
    "airbnb2.head(2)"
   ]
  },
  {
   "cell_type": "markdown",
   "metadata": {},
   "source": [
    "# 3. Joining DataFrames"
   ]
  },
  {
   "cell_type": "code",
   "execution_count": null,
   "metadata": {},
   "outputs": [],
   "source": [
    "merged_df = pd.merge(airbnb, airbnb2, left_on='roomURL', right_on='Page_URL')\n",
    "df = merged_df.drop(columns=[\"roomURL\", \"Page_URL\"])\n",
    "print(merged_df.info())\n",
    "print(merged_df.head(2))\n"
   ]
  },
  {
   "cell_type": "markdown",
   "metadata": {},
   "source": [
    "# 4. Cleaning"
   ]
  },
  {
   "cell_type": "code",
   "execution_count": null,
   "metadata": {},
   "outputs": [],
   "source": [
    "# Renaming columns for consistency\n",
    "df.rename(columns={\n",
    "    'roomTitle' : 'roomType',\n",
    "    'Rating' : 'rating',\n",
    "    'Number_of_Reviews' : 'numberReviews',\n",
    "    'Amenities': 'amenities',\n",
    "}, inplace=True)"
   ]
  },
  {
   "cell_type": "code",
   "execution_count": null,
   "metadata": {},
   "outputs": [],
   "source": [
    "# Drop duplicate rows\n",
    "df.drop_duplicates(inplace=True)"
   ]
  },
  {
   "cell_type": "code",
   "execution_count": null,
   "metadata": {},
   "outputs": [],
   "source": [
    "# Find rows with missing values\n",
    "missing = df[df.isnull().any(axis=1)]\n",
    "\n",
    "# Display rows with missing values\n",
    "print(missing)"
   ]
  },
  {
   "cell_type": "code",
   "execution_count": null,
   "metadata": {},
   "outputs": [],
   "source": [
    "df.head()"
   ]
  },
  {
   "cell_type": "code",
   "execution_count": null,
   "metadata": {},
   "outputs": [],
   "source": [
    "df['roomType'] = df['roomType'].str.split().str[0]\n",
    "\n",
    "df['roomType'] = df['roomType'].astype('category')\n",
    "\n",
    "df['roomType'].value_counts()"
   ]
  },
  {
   "cell_type": "code",
   "execution_count": null,
   "metadata": {},
   "outputs": [],
   "source": [
    "df['roomPrice'] = df['roomPrice'].str.extract('(\\d+)').astype(float)\n",
    "df.head()"
   ]
  },
  {
   "cell_type": "code",
   "execution_count": null,
   "metadata": {},
   "outputs": [],
   "source": [
    "df['hostType'] = df['hostType'].replace({\n",
    "    'Preferido dos\\xa0hóspedes\\nPreferido dos\\xa0hóspedes' : 'preferido',\n",
    "    'Superhost\\nSuperhost' : 'superhost',\n",
    "    'De 18 a 20 de set.\\n18 – 20 de set.' : 'no_class',\n",
    "    '' : 'no_class'\n",
    "}).astype('category')\n",
    "\n",
    "df['hostType'].value_counts()"
   ]
  },
  {
   "cell_type": "code",
   "execution_count": null,
   "metadata": {},
   "outputs": [],
   "source": [
    "print(df['rating'].isna().value_counts())"
   ]
  },
  {
   "cell_type": "code",
   "execution_count": null,
   "metadata": {},
   "outputs": [],
   "source": [
    "print(df['numberReviews'].isna().value_counts())"
   ]
  },
  {
   "cell_type": "code",
   "execution_count": null,
   "metadata": {},
   "outputs": [],
   "source": [
    "# This code will process the DataFrame, aggregate the amenities, \n",
    "# and perform one-hot encoding to prepare the data for model training. \n",
    "\n",
    "\n",
    "df['amenities'] = df['amenities'].str.split('\\n')\n",
    "\n",
    "aggregation_map = {\n",
    "    'wifi': 'WiFi',\n",
    "    'hd': 'HDTV',\n",
    "    'tv': 'TV',\n",
    "    'netflix': 'Streaming Service',\n",
    "    'prime': 'Streaming Service',\n",
    "    'roku': 'Streaming Service',\n",
    "    'disney+': 'Streaming Service',\n",
    "    'hbo max': 'Streaming Service',\n",
    "    'streaming': 'Streaming Service',\n",
    "    'parking': 'Parking',\n",
    "    'garage': 'Parking',\n",
    "    'carport': 'Parking',\n",
    "    'ac': 'Air Conditioning',\n",
    "    'air conditioning': 'Air Conditioning',\n",
    "    'pool': 'Pool',\n",
    "    'hot tub': 'Hot Tub',\n",
    "    'sauna': 'Sauna',\n",
    "    'fireplace': 'Fireplace',\n",
    "    'microwave': 'Microwave',\n",
    "    'washer': 'Washer',\n",
    "    'dryer': 'Dryer',\n",
    "    'refrigerator': 'Refrigerator',\n",
    "    'smoke alarm': 'Smoke Alarm',\n",
    "    'carbon monoxide alarm': 'Carbon Monoxide Alarm',\n",
    "    'bathroom': 'Bathroom',\n",
    "    'kitchen': 'Kitchen',\n",
    "    'patio': 'Patio',\n",
    "    'balcony': 'Balcony',\n",
    "    'backyard': 'Backyard',\n",
    "    'view': 'View',\n",
    "    'security cameras': 'Security Cameras',\n",
    "    'ev charger': 'EV Charger',\n",
    "    'breakfast': 'Breakfast',\n",
    "    'pets allowed': 'Pets Allowed',\n",
    "    'luggage dropoff allowed': 'Luggage Dropoff Allowed',\n",
    "    'step-free access': 'Accessible',\n",
    "    'step-free path': 'Accessible',\n",
    "    'step-free guest entrance': 'Accessible',\n",
    "    'crib': 'Crib',\n",
    "    'high chair': 'High Chair',\n",
    "    'pack ’n play/travel crib': 'Travel Crib',\n",
    "}\n",
    "\n",
    "# Function to aggregate amenities\n",
    "def aggregate_amenity(amenity):\n",
    "    for keyword, category in aggregation_map.items():\n",
    "        if keyword.lower() in amenity.lower():\n",
    "            return category\n",
    "    return amenity\n",
    "\n",
    "# Aggregate the amenities in the DataFrame\n",
    "df['amenities'] = df['amenities'].apply(lambda amenities: [aggregate_amenity(amenity) for amenity in amenities])\n",
    "\n",
    "# Flatten the list of amenities and get unique values\n",
    "unique_amenities = set(amenity for amenities in df['amenities'] for amenity in amenities)\n",
    "\n",
    "# Create separate columns for each amenity\n",
    "for amenity in unique_amenities:\n",
    "    df[amenity] = df['amenities'].apply(lambda x: 1 if amenity in x else 0)\n",
    "\n",
    "# Drop the original amenities column\n",
    "df = df.drop(columns=['amenities'])\n",
    "\n",
    "print(df)"
   ]
  },
  {
   "cell_type": "code",
   "execution_count": null,
   "metadata": {},
   "outputs": [],
   "source": [
    "# Convert the DataFrame to a JSON string\n",
    "json_str = df.to_json(orient='records', lines=True, force_ascii=False)\n",
    "\n",
    "# Save the JSON string to a file with latin-1 encoding\n",
    "with open('final_df.json', 'w', encoding='latin-1') as file:\n",
    "    file.write(json_str)\n",
    "\n",
    "print(\"The DataFrame has been saved to 'final_df.json' with latin-1 encoding.\")"
   ]
  }
 ],
 "metadata": {
  "kernelspec": {
   "display_name": "Python 3",
   "language": "python",
   "name": "python3"
  },
  "language_info": {
   "codemirror_mode": {
    "name": "ipython",
    "version": 3
   },
   "file_extension": ".py",
   "mimetype": "text/x-python",
   "name": "python",
   "nbconvert_exporter": "python",
   "pygments_lexer": "ipython3",
   "version": "3.11.4"
  }
 },
 "nbformat": 4,
 "nbformat_minor": 2
}
