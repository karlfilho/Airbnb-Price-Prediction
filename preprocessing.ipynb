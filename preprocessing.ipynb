{
 "cells": [
  {
   "cell_type": "markdown",
   "metadata": {},
   "source": [
    "# 2. Getting started"
   ]
  },
  {
   "cell_type": "markdown",
   "metadata": {},
   "source": [
    "## Loading necessary libraries"
   ]
  },
  {
   "cell_type": "code",
   "execution_count": 8,
   "metadata": {},
   "outputs": [],
   "source": [
    "import pandas as pd"
   ]
  },
  {
   "cell_type": "markdown",
   "metadata": {},
   "source": [
    "## Loading JSON dataset and dropping some columns"
   ]
  },
  {
   "cell_type": "code",
   "execution_count": 13,
   "metadata": {},
   "outputs": [
    {
     "data": {
      "text/html": [
       "<div>\n",
       "<style scoped>\n",
       "    .dataframe tbody tr th:only-of-type {\n",
       "        vertical-align: middle;\n",
       "    }\n",
       "\n",
       "    .dataframe tbody tr th {\n",
       "        vertical-align: top;\n",
       "    }\n",
       "\n",
       "    .dataframe thead th {\n",
       "        text-align: right;\n",
       "    }\n",
       "</style>\n",
       "<table border=\"1\" class=\"dataframe\">\n",
       "  <thead>\n",
       "    <tr style=\"text-align: right;\">\n",
       "      <th></th>\n",
       "      <th>roomTitle</th>\n",
       "      <th>roomPrice</th>\n",
       "      <th>roomURL</th>\n",
       "      <th>hostType</th>\n",
       "    </tr>\n",
       "  </thead>\n",
       "  <tbody>\n",
       "    <tr>\n",
       "      <th>0</th>\n",
       "      <td>Loft em Campos do Jordão</td>\n",
       "      <td>R$268 por noite</td>\n",
       "      <td>https://www.airbnb.com/rooms/92836566916150808...</td>\n",
       "      <td>Preferido dos hóspedes\\nPreferido dos hóspedes</td>\n",
       "    </tr>\n",
       "    <tr>\n",
       "      <th>1</th>\n",
       "      <td>Loft em Campos do Jordão</td>\n",
       "      <td>R$99 por noite</td>\n",
       "      <td>https://www.airbnb.com/rooms/53832612?adults=2...</td>\n",
       "      <td>Preferido dos hóspedes\\nPreferido dos hóspedes</td>\n",
       "    </tr>\n",
       "  </tbody>\n",
       "</table>\n",
       "</div>"
      ],
      "text/plain": [
       "                  roomTitle        roomPrice  \\\n",
       "0  Loft em Campos do Jordão  R$268 por noite   \n",
       "1  Loft em Campos do Jordão   R$99 por noite   \n",
       "\n",
       "                                             roomURL  \\\n",
       "0  https://www.airbnb.com/rooms/92836566916150808...   \n",
       "1  https://www.airbnb.com/rooms/53832612?adults=2...   \n",
       "\n",
       "                                         hostType  \n",
       "0  Preferido dos hóspedes\\nPreferido dos hóspedes  \n",
       "1  Preferido dos hóspedes\\nPreferido dos hóspedes  "
      ]
     },
     "execution_count": 13,
     "metadata": {},
     "output_type": "execute_result"
    }
   ],
   "source": [
    "airbnb = pd.read_json(\"C:\\Github\\Data_Science_Portfolio\\Airbnb-Price-Prediction\\octoparse_airbnb_v1.json\")\n",
    "airbnb = airbnb.drop(columns= [\"Keyword\", \"Host\", \"roomName\", \"roomRating\", \"roomReviewcount\"])\n",
    "\n",
    "airbnb.head(2)"
   ]
  },
  {
   "cell_type": "code",
   "execution_count": 5,
   "metadata": {},
   "outputs": [
    {
     "name": "stdout",
     "output_type": "stream",
     "text": [
      "<class 'pandas.core.frame.DataFrame'>\n",
      "RangeIndex: 672 entries, 0 to 671\n",
      "Data columns (total 6 columns):\n",
      " #   Column           Non-Null Count  Dtype \n",
      "---  ------           --------------  ----- \n",
      " 0   roomTitle        672 non-null    object\n",
      " 1   roomRating       672 non-null    object\n",
      " 2   roomReviewcount  672 non-null    object\n",
      " 3   roomPrice        672 non-null    object\n",
      " 4   roomURL          672 non-null    object\n",
      " 5   hostType         672 non-null    object\n",
      "dtypes: object(6)\n",
      "memory usage: 31.6+ KB\n"
     ]
    }
   ],
   "source": [
    "airbnb.info()"
   ]
  },
  {
   "cell_type": "code",
   "execution_count": 14,
   "metadata": {},
   "outputs": [
    {
     "data": {
      "text/html": [
       "<div>\n",
       "<style scoped>\n",
       "    .dataframe tbody tr th:only-of-type {\n",
       "        vertical-align: middle;\n",
       "    }\n",
       "\n",
       "    .dataframe tbody tr th {\n",
       "        vertical-align: top;\n",
       "    }\n",
       "\n",
       "    .dataframe thead th {\n",
       "        text-align: right;\n",
       "    }\n",
       "</style>\n",
       "<table border=\"1\" class=\"dataframe\">\n",
       "  <thead>\n",
       "    <tr style=\"text-align: right;\">\n",
       "      <th></th>\n",
       "      <th>Page_URL</th>\n",
       "      <th>Rating</th>\n",
       "      <th>Number_of_Reviews</th>\n",
       "      <th>Amenities</th>\n",
       "    </tr>\n",
       "  </thead>\n",
       "  <tbody>\n",
       "    <tr>\n",
       "      <th>0</th>\n",
       "      <td>https://www.airbnb.com/rooms/11369075570005485...</td>\n",
       "      <td></td>\n",
       "      <td></td>\n",
       "      <td>Kitchen\\nWifi\\nFree parking on premises\\nHot t...</td>\n",
       "    </tr>\n",
       "    <tr>\n",
       "      <th>1</th>\n",
       "      <td>https://www.airbnb.com/rooms/92836566916150808...</td>\n",
       "      <td>4.89</td>\n",
       "      <td>74</td>\n",
       "      <td></td>\n",
       "    </tr>\n",
       "  </tbody>\n",
       "</table>\n",
       "</div>"
      ],
      "text/plain": [
       "                                            Page_URL Rating Number_of_Reviews  \\\n",
       "0  https://www.airbnb.com/rooms/11369075570005485...                            \n",
       "1  https://www.airbnb.com/rooms/92836566916150808...   4.89                74   \n",
       "\n",
       "                                           Amenities  \n",
       "0  Kitchen\\nWifi\\nFree parking on premises\\nHot t...  \n",
       "1                                                     "
      ]
     },
     "execution_count": 14,
     "metadata": {},
     "output_type": "execute_result"
    }
   ],
   "source": [
    "airbnb2 = pd.read_json('C:\\\\Github\\\\Data_Science_Portfolio\\\\Airbnb-Price-Prediction\\\\octoparse_airbnb_v2.json')\n",
    "airbnb2 = airbnb2.drop(columns= [\"Title\", \"Location\", \"Number_of_Guests\", \"Number_of_Bedrooms\", \"Number_of_Beds\", \"Number_of_Bath\", \"Price\", \"Sleeping_Arrangements\", \"Hosted_by\", \"Response_Rate\", \"Image_1\", \"Image_2\", \"Image_3\", \"Current_Time\"])\n",
    "airbnb2.head(2)"
   ]
  },
  {
   "cell_type": "markdown",
   "metadata": {},
   "source": [
    "# 3. Joining DataFrames"
   ]
  },
  {
   "cell_type": "code",
   "execution_count": 19,
   "metadata": {},
   "outputs": [
    {
     "name": "stdout",
     "output_type": "stream",
     "text": [
      "<class 'pandas.core.frame.DataFrame'>\n",
      "RangeIndex: 669 entries, 0 to 668\n",
      "Data columns (total 8 columns):\n",
      " #   Column             Non-Null Count  Dtype \n",
      "---  ------             --------------  ----- \n",
      " 0   roomTitle          669 non-null    object\n",
      " 1   roomPrice          669 non-null    object\n",
      " 2   roomURL            669 non-null    object\n",
      " 3   hostType           669 non-null    object\n",
      " 4   Page_URL           669 non-null    object\n",
      " 5   Rating             669 non-null    object\n",
      " 6   Number_of_Reviews  669 non-null    object\n",
      " 7   Amenities          669 non-null    object\n",
      "dtypes: object(8)\n",
      "memory usage: 41.9+ KB\n",
      "None\n",
      "                  roomTitle        roomPrice  \\\n",
      "0  Loft em Campos do Jordão  R$268 por noite   \n",
      "1  Loft em Campos do Jordão   R$99 por noite   \n",
      "\n",
      "                                             roomURL  \\\n",
      "0  https://www.airbnb.com/rooms/92836566916150808...   \n",
      "1  https://www.airbnb.com/rooms/53832612?adults=2...   \n",
      "\n",
      "                                         hostType  \\\n",
      "0  Preferido dos hóspedes\\nPreferido dos hóspedes   \n",
      "1  Preferido dos hóspedes\\nPreferido dos hóspedes   \n",
      "\n",
      "                                            Page_URL Rating Number_of_Reviews  \\\n",
      "0  https://www.airbnb.com/rooms/92836566916150808...   4.89                74   \n",
      "1  https://www.airbnb.com/rooms/53832612?adults=2...   4.95               148   \n",
      "\n",
      "                                           Amenities  \n",
      "0                                                     \n",
      "1  Kitchen\\nFast wifi – 354 Mbps\\nDedicated works...  \n"
     ]
    }
   ],
   "source": [
    "merged_df = pd.merge(airbnb, airbnb2, left_on='roomURL', right_on='Page_URL')\n",
    "df = merged_df.drop(columns=[\"roomURL\", \"Page_URL\"])\n",
    "print(merged_df.info())\n",
    "print(merged_df.head(2))\n"
   ]
  },
  {
   "cell_type": "markdown",
   "metadata": {},
   "source": [
    "# 4. Cleaning"
   ]
  },
  {
   "cell_type": "code",
   "execution_count": 23,
   "metadata": {},
   "outputs": [],
   "source": [
    "# Renaming columns for consistency\n",
    "df.rename(columns={\n",
    "    'roomTitle' : 'roomType',\n",
    "    'Rating' : 'rating',\n",
    "    'Number_of_Reviews' : 'numberReviews',\n",
    "    'Amenities': 'amenities',\n",
    "}, inplace=True)"
   ]
  },
  {
   "cell_type": "code",
   "execution_count": 24,
   "metadata": {},
   "outputs": [],
   "source": [
    "# Drop duplicate rows\n",
    "merged_df.drop_duplicates(inplace=True)"
   ]
  },
  {
   "cell_type": "code",
   "execution_count": 25,
   "metadata": {},
   "outputs": [
    {
     "name": "stdout",
     "output_type": "stream",
     "text": [
      "Empty DataFrame\n",
      "Columns: [roomTitle, roomPrice, roomURL, hostType, Page_URL, Rating, Number_of_Reviews, Amenities]\n",
      "Index: []\n"
     ]
    }
   ],
   "source": [
    "# Find rows with missing values\n",
    "missing = merged_df[merged_df.isnull().any(axis=1)]\n",
    "\n",
    "# Display rows with missing values\n",
    "print(missing)"
   ]
  }
 ],
 "metadata": {
  "kernelspec": {
   "display_name": "Python 3",
   "language": "python",
   "name": "python3"
  },
  "language_info": {
   "codemirror_mode": {
    "name": "ipython",
    "version": 3
   },
   "file_extension": ".py",
   "mimetype": "text/x-python",
   "name": "python",
   "nbconvert_exporter": "python",
   "pygments_lexer": "ipython3",
   "version": "3.11.4"
  }
 },
 "nbformat": 4,
 "nbformat_minor": 2
}
