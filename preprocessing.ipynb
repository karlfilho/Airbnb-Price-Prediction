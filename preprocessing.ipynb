{
 "cells": [
  {
   "cell_type": "code",
   "execution_count": 5,
   "metadata": {},
   "outputs": [],
   "source": [
    "import pandas as pd"
   ]
  },
  {
   "cell_type": "markdown",
   "metadata": {},
   "source": [
    "### Airbnb front pages dataset\n",
    "This dataset contains the information gathered from the rooms at all the search pages.\n",
    "It contains:\n",
    "- `roomTitle`: the type of the room.\n",
    "- `roomPrice`: the price for a night.\n",
    "- `roomURL`: the url for the room page, used for merging in the next phase.\n",
    "- `hostType`: the class of the host."
   ]
  },
  {
   "cell_type": "code",
   "execution_count": 6,
   "metadata": {},
   "outputs": [
    {
     "data": {
      "text/html": [
       "<div>\n",
       "<style scoped>\n",
       "    .dataframe tbody tr th:only-of-type {\n",
       "        vertical-align: middle;\n",
       "    }\n",
       "\n",
       "    .dataframe tbody tr th {\n",
       "        vertical-align: top;\n",
       "    }\n",
       "\n",
       "    .dataframe thead th {\n",
       "        text-align: right;\n",
       "    }\n",
       "</style>\n",
       "<table border=\"1\" class=\"dataframe\">\n",
       "  <thead>\n",
       "    <tr style=\"text-align: right;\">\n",
       "      <th></th>\n",
       "      <th>roomTitle</th>\n",
       "      <th>roomPrice</th>\n",
       "      <th>roomURL</th>\n",
       "      <th>hostType</th>\n",
       "    </tr>\n",
       "  </thead>\n",
       "  <tbody>\n",
       "    <tr>\n",
       "      <th>0</th>\n",
       "      <td>Loft em Campos do Jordão</td>\n",
       "      <td>R$268 por noite</td>\n",
       "      <td>https://www.airbnb.com/rooms/92836566916150808...</td>\n",
       "      <td>Preferido dos hóspedes\\nPreferido dos hóspedes</td>\n",
       "    </tr>\n",
       "    <tr>\n",
       "      <th>1</th>\n",
       "      <td>Loft em Campos do Jordão</td>\n",
       "      <td>R$99 por noite</td>\n",
       "      <td>https://www.airbnb.com/rooms/53832612?adults=2...</td>\n",
       "      <td>Preferido dos hóspedes\\nPreferido dos hóspedes</td>\n",
       "    </tr>\n",
       "  </tbody>\n",
       "</table>\n",
       "</div>"
      ],
      "text/plain": [
       "                  roomTitle        roomPrice  \\\n",
       "0  Loft em Campos do Jordão  R$268 por noite   \n",
       "1  Loft em Campos do Jordão   R$99 por noite   \n",
       "\n",
       "                                             roomURL  \\\n",
       "0  https://www.airbnb.com/rooms/92836566916150808...   \n",
       "1  https://www.airbnb.com/rooms/53832612?adults=2...   \n",
       "\n",
       "                                         hostType  \n",
       "0  Preferido dos hóspedes\\nPreferido dos hóspedes  \n",
       "1  Preferido dos hóspedes\\nPreferido dos hóspedes  "
      ]
     },
     "execution_count": 6,
     "metadata": {},
     "output_type": "execute_result"
    }
   ],
   "source": [
    "airbnb_frontPage = pd.read_json('datasets/airbnb_frontPage.json', encoding='utf-8')\n",
    "airbnb_frontPage.drop(columns= [\"Keyword\", \"Host\", \"roomName\", \"roomRating\", \"roomReviewcount\"], inplace=True)\n",
    "\n",
    "airbnb_frontPage.head(2)"
   ]
  },
  {
   "cell_type": "code",
   "execution_count": 7,
   "metadata": {},
   "outputs": [
    {
     "name": "stdout",
     "output_type": "stream",
     "text": [
      "<class 'pandas.core.frame.DataFrame'>\n",
      "RangeIndex: 672 entries, 0 to 671\n",
      "Data columns (total 4 columns):\n",
      " #   Column     Non-Null Count  Dtype \n",
      "---  ------     --------------  ----- \n",
      " 0   roomTitle  672 non-null    object\n",
      " 1   roomPrice  672 non-null    object\n",
      " 2   roomURL    672 non-null    object\n",
      " 3   hostType   672 non-null    object\n",
      "dtypes: object(4)\n",
      "memory usage: 21.1+ KB\n"
     ]
    }
   ],
   "source": [
    "airbnb_frontPage.info()"
   ]
  },
  {
   "cell_type": "markdown",
   "metadata": {},
   "source": [
    "### Airbnb room pages\n",
    "This dataset contains some information scraped from the room's page.\n",
    "- `Page_URL`: the url for the room page, used for merging in the next phase.\n",
    "- `Rating`: the rating of the room.\n",
    "- `Number_of_Reviews`: the number of reviews registered.\n",
    "- `Amenities`: List of each rooms' amenities."
   ]
  },
  {
   "cell_type": "code",
   "execution_count": 8,
   "metadata": {},
   "outputs": [
    {
     "ename": "FileNotFoundError",
     "evalue": "File airbnb_rooms.json does not exist",
     "output_type": "error",
     "traceback": [
      "\u001b[1;31m---------------------------------------------------------------------------\u001b[0m",
      "\u001b[1;31mFileNotFoundError\u001b[0m                         Traceback (most recent call last)",
      "Cell \u001b[1;32mIn[8], line 1\u001b[0m\n\u001b[1;32m----> 1\u001b[0m airbnb_rooms \u001b[38;5;241m=\u001b[39m \u001b[43mpd\u001b[49m\u001b[38;5;241;43m.\u001b[39;49m\u001b[43mread_json\u001b[49m\u001b[43m(\u001b[49m\u001b[38;5;124;43m'\u001b[39;49m\u001b[38;5;124;43mairbnb_rooms.json\u001b[39;49m\u001b[38;5;124;43m'\u001b[39;49m\u001b[43m,\u001b[49m\u001b[43m \u001b[49m\u001b[43mencoding\u001b[49m\u001b[38;5;241;43m=\u001b[39;49m\u001b[38;5;124;43m'\u001b[39;49m\u001b[38;5;124;43mutf-8\u001b[39;49m\u001b[38;5;124;43m'\u001b[39;49m\u001b[43m)\u001b[49m\n\u001b[0;32m      2\u001b[0m airbnb_rooms\u001b[38;5;241m.\u001b[39mdrop(columns\u001b[38;5;241m=\u001b[39m [\u001b[38;5;124m\"\u001b[39m\u001b[38;5;124mTitle\u001b[39m\u001b[38;5;124m\"\u001b[39m, \u001b[38;5;124m\"\u001b[39m\u001b[38;5;124mLocation\u001b[39m\u001b[38;5;124m\"\u001b[39m, \u001b[38;5;124m\"\u001b[39m\u001b[38;5;124mNumber_of_Guests\u001b[39m\u001b[38;5;124m\"\u001b[39m, \u001b[38;5;124m\"\u001b[39m\u001b[38;5;124mNumber_of_Bedrooms\u001b[39m\u001b[38;5;124m\"\u001b[39m, \u001b[38;5;124m\"\u001b[39m\u001b[38;5;124mNumber_of_Beds\u001b[39m\u001b[38;5;124m\"\u001b[39m, \u001b[38;5;124m\"\u001b[39m\u001b[38;5;124mNumber_of_Bath\u001b[39m\u001b[38;5;124m\"\u001b[39m, \u001b[38;5;124m\"\u001b[39m\u001b[38;5;124mPrice\u001b[39m\u001b[38;5;124m\"\u001b[39m, \u001b[38;5;124m\"\u001b[39m\u001b[38;5;124mSleeping_Arrangements\u001b[39m\u001b[38;5;124m\"\u001b[39m, \u001b[38;5;124m\"\u001b[39m\u001b[38;5;124mHosted_by\u001b[39m\u001b[38;5;124m\"\u001b[39m, \u001b[38;5;124m\"\u001b[39m\u001b[38;5;124mResponse_Rate\u001b[39m\u001b[38;5;124m\"\u001b[39m, \u001b[38;5;124m\"\u001b[39m\u001b[38;5;124mImage_1\u001b[39m\u001b[38;5;124m\"\u001b[39m, \u001b[38;5;124m\"\u001b[39m\u001b[38;5;124mImage_2\u001b[39m\u001b[38;5;124m\"\u001b[39m, \u001b[38;5;124m\"\u001b[39m\u001b[38;5;124mImage_3\u001b[39m\u001b[38;5;124m\"\u001b[39m, \u001b[38;5;124m\"\u001b[39m\u001b[38;5;124mCurrent_Time\u001b[39m\u001b[38;5;124m\"\u001b[39m], inplace\u001b[38;5;241m=\u001b[39m\u001b[38;5;28;01mTrue\u001b[39;00m)\n\u001b[0;32m      3\u001b[0m airbnb_rooms\u001b[38;5;241m.\u001b[39mhead(\u001b[38;5;241m2\u001b[39m)\n",
      "File \u001b[1;32mc:\\Users\\karlf\\anaconda3\\envs\\scrapy-venv\\Lib\\site-packages\\pandas\\io\\json\\_json.py:791\u001b[0m, in \u001b[0;36mread_json\u001b[1;34m(path_or_buf, orient, typ, dtype, convert_axes, convert_dates, keep_default_dates, precise_float, date_unit, encoding, encoding_errors, lines, chunksize, compression, nrows, storage_options, dtype_backend, engine)\u001b[0m\n\u001b[0;32m    788\u001b[0m \u001b[38;5;28;01mif\u001b[39;00m convert_axes \u001b[38;5;129;01mis\u001b[39;00m \u001b[38;5;28;01mNone\u001b[39;00m \u001b[38;5;129;01mand\u001b[39;00m orient \u001b[38;5;241m!=\u001b[39m \u001b[38;5;124m\"\u001b[39m\u001b[38;5;124mtable\u001b[39m\u001b[38;5;124m\"\u001b[39m:\n\u001b[0;32m    789\u001b[0m     convert_axes \u001b[38;5;241m=\u001b[39m \u001b[38;5;28;01mTrue\u001b[39;00m\n\u001b[1;32m--> 791\u001b[0m json_reader \u001b[38;5;241m=\u001b[39m \u001b[43mJsonReader\u001b[49m\u001b[43m(\u001b[49m\n\u001b[0;32m    792\u001b[0m \u001b[43m    \u001b[49m\u001b[43mpath_or_buf\u001b[49m\u001b[43m,\u001b[49m\n\u001b[0;32m    793\u001b[0m \u001b[43m    \u001b[49m\u001b[43morient\u001b[49m\u001b[38;5;241;43m=\u001b[39;49m\u001b[43morient\u001b[49m\u001b[43m,\u001b[49m\n\u001b[0;32m    794\u001b[0m \u001b[43m    \u001b[49m\u001b[43mtyp\u001b[49m\u001b[38;5;241;43m=\u001b[39;49m\u001b[43mtyp\u001b[49m\u001b[43m,\u001b[49m\n\u001b[0;32m    795\u001b[0m \u001b[43m    \u001b[49m\u001b[43mdtype\u001b[49m\u001b[38;5;241;43m=\u001b[39;49m\u001b[43mdtype\u001b[49m\u001b[43m,\u001b[49m\n\u001b[0;32m    796\u001b[0m \u001b[43m    \u001b[49m\u001b[43mconvert_axes\u001b[49m\u001b[38;5;241;43m=\u001b[39;49m\u001b[43mconvert_axes\u001b[49m\u001b[43m,\u001b[49m\n\u001b[0;32m    797\u001b[0m \u001b[43m    \u001b[49m\u001b[43mconvert_dates\u001b[49m\u001b[38;5;241;43m=\u001b[39;49m\u001b[43mconvert_dates\u001b[49m\u001b[43m,\u001b[49m\n\u001b[0;32m    798\u001b[0m \u001b[43m    \u001b[49m\u001b[43mkeep_default_dates\u001b[49m\u001b[38;5;241;43m=\u001b[39;49m\u001b[43mkeep_default_dates\u001b[49m\u001b[43m,\u001b[49m\n\u001b[0;32m    799\u001b[0m \u001b[43m    \u001b[49m\u001b[43mprecise_float\u001b[49m\u001b[38;5;241;43m=\u001b[39;49m\u001b[43mprecise_float\u001b[49m\u001b[43m,\u001b[49m\n\u001b[0;32m    800\u001b[0m \u001b[43m    \u001b[49m\u001b[43mdate_unit\u001b[49m\u001b[38;5;241;43m=\u001b[39;49m\u001b[43mdate_unit\u001b[49m\u001b[43m,\u001b[49m\n\u001b[0;32m    801\u001b[0m \u001b[43m    \u001b[49m\u001b[43mencoding\u001b[49m\u001b[38;5;241;43m=\u001b[39;49m\u001b[43mencoding\u001b[49m\u001b[43m,\u001b[49m\n\u001b[0;32m    802\u001b[0m \u001b[43m    \u001b[49m\u001b[43mlines\u001b[49m\u001b[38;5;241;43m=\u001b[39;49m\u001b[43mlines\u001b[49m\u001b[43m,\u001b[49m\n\u001b[0;32m    803\u001b[0m \u001b[43m    \u001b[49m\u001b[43mchunksize\u001b[49m\u001b[38;5;241;43m=\u001b[39;49m\u001b[43mchunksize\u001b[49m\u001b[43m,\u001b[49m\n\u001b[0;32m    804\u001b[0m \u001b[43m    \u001b[49m\u001b[43mcompression\u001b[49m\u001b[38;5;241;43m=\u001b[39;49m\u001b[43mcompression\u001b[49m\u001b[43m,\u001b[49m\n\u001b[0;32m    805\u001b[0m \u001b[43m    \u001b[49m\u001b[43mnrows\u001b[49m\u001b[38;5;241;43m=\u001b[39;49m\u001b[43mnrows\u001b[49m\u001b[43m,\u001b[49m\n\u001b[0;32m    806\u001b[0m \u001b[43m    \u001b[49m\u001b[43mstorage_options\u001b[49m\u001b[38;5;241;43m=\u001b[39;49m\u001b[43mstorage_options\u001b[49m\u001b[43m,\u001b[49m\n\u001b[0;32m    807\u001b[0m \u001b[43m    \u001b[49m\u001b[43mencoding_errors\u001b[49m\u001b[38;5;241;43m=\u001b[39;49m\u001b[43mencoding_errors\u001b[49m\u001b[43m,\u001b[49m\n\u001b[0;32m    808\u001b[0m \u001b[43m    \u001b[49m\u001b[43mdtype_backend\u001b[49m\u001b[38;5;241;43m=\u001b[39;49m\u001b[43mdtype_backend\u001b[49m\u001b[43m,\u001b[49m\n\u001b[0;32m    809\u001b[0m \u001b[43m    \u001b[49m\u001b[43mengine\u001b[49m\u001b[38;5;241;43m=\u001b[39;49m\u001b[43mengine\u001b[49m\u001b[43m,\u001b[49m\n\u001b[0;32m    810\u001b[0m \u001b[43m\u001b[49m\u001b[43m)\u001b[49m\n\u001b[0;32m    812\u001b[0m \u001b[38;5;28;01mif\u001b[39;00m chunksize:\n\u001b[0;32m    813\u001b[0m     \u001b[38;5;28;01mreturn\u001b[39;00m json_reader\n",
      "File \u001b[1;32mc:\\Users\\karlf\\anaconda3\\envs\\scrapy-venv\\Lib\\site-packages\\pandas\\io\\json\\_json.py:904\u001b[0m, in \u001b[0;36mJsonReader.__init__\u001b[1;34m(self, filepath_or_buffer, orient, typ, dtype, convert_axes, convert_dates, keep_default_dates, precise_float, date_unit, encoding, lines, chunksize, compression, nrows, storage_options, encoding_errors, dtype_backend, engine)\u001b[0m\n\u001b[0;32m    902\u001b[0m     \u001b[38;5;28mself\u001b[39m\u001b[38;5;241m.\u001b[39mdata \u001b[38;5;241m=\u001b[39m filepath_or_buffer\n\u001b[0;32m    903\u001b[0m \u001b[38;5;28;01melif\u001b[39;00m \u001b[38;5;28mself\u001b[39m\u001b[38;5;241m.\u001b[39mengine \u001b[38;5;241m==\u001b[39m \u001b[38;5;124m\"\u001b[39m\u001b[38;5;124mujson\u001b[39m\u001b[38;5;124m\"\u001b[39m:\n\u001b[1;32m--> 904\u001b[0m     data \u001b[38;5;241m=\u001b[39m \u001b[38;5;28;43mself\u001b[39;49m\u001b[38;5;241;43m.\u001b[39;49m\u001b[43m_get_data_from_filepath\u001b[49m\u001b[43m(\u001b[49m\u001b[43mfilepath_or_buffer\u001b[49m\u001b[43m)\u001b[49m\n\u001b[0;32m    905\u001b[0m     \u001b[38;5;28mself\u001b[39m\u001b[38;5;241m.\u001b[39mdata \u001b[38;5;241m=\u001b[39m \u001b[38;5;28mself\u001b[39m\u001b[38;5;241m.\u001b[39m_preprocess_data(data)\n",
      "File \u001b[1;32mc:\\Users\\karlf\\anaconda3\\envs\\scrapy-venv\\Lib\\site-packages\\pandas\\io\\json\\_json.py:960\u001b[0m, in \u001b[0;36mJsonReader._get_data_from_filepath\u001b[1;34m(self, filepath_or_buffer)\u001b[0m\n\u001b[0;32m    952\u001b[0m     filepath_or_buffer \u001b[38;5;241m=\u001b[39m \u001b[38;5;28mself\u001b[39m\u001b[38;5;241m.\u001b[39mhandles\u001b[38;5;241m.\u001b[39mhandle\n\u001b[0;32m    953\u001b[0m \u001b[38;5;28;01melif\u001b[39;00m (\n\u001b[0;32m    954\u001b[0m     \u001b[38;5;28misinstance\u001b[39m(filepath_or_buffer, \u001b[38;5;28mstr\u001b[39m)\n\u001b[0;32m    955\u001b[0m     \u001b[38;5;129;01mand\u001b[39;00m filepath_or_buffer\u001b[38;5;241m.\u001b[39mlower()\u001b[38;5;241m.\u001b[39mendswith(\n\u001b[1;32m   (...)\u001b[0m\n\u001b[0;32m    958\u001b[0m     \u001b[38;5;129;01mand\u001b[39;00m \u001b[38;5;129;01mnot\u001b[39;00m file_exists(filepath_or_buffer)\n\u001b[0;32m    959\u001b[0m ):\n\u001b[1;32m--> 960\u001b[0m     \u001b[38;5;28;01mraise\u001b[39;00m \u001b[38;5;167;01mFileNotFoundError\u001b[39;00m(\u001b[38;5;124mf\u001b[39m\u001b[38;5;124m\"\u001b[39m\u001b[38;5;124mFile \u001b[39m\u001b[38;5;132;01m{\u001b[39;00mfilepath_or_buffer\u001b[38;5;132;01m}\u001b[39;00m\u001b[38;5;124m does not exist\u001b[39m\u001b[38;5;124m\"\u001b[39m)\n\u001b[0;32m    961\u001b[0m \u001b[38;5;28;01melse\u001b[39;00m:\n\u001b[0;32m    962\u001b[0m     warnings\u001b[38;5;241m.\u001b[39mwarn(\n\u001b[0;32m    963\u001b[0m         \u001b[38;5;124m\"\u001b[39m\u001b[38;5;124mPassing literal json to \u001b[39m\u001b[38;5;124m'\u001b[39m\u001b[38;5;124mread_json\u001b[39m\u001b[38;5;124m'\u001b[39m\u001b[38;5;124m is deprecated and \u001b[39m\u001b[38;5;124m\"\u001b[39m\n\u001b[0;32m    964\u001b[0m         \u001b[38;5;124m\"\u001b[39m\u001b[38;5;124mwill be removed in a future version. To read from a \u001b[39m\u001b[38;5;124m\"\u001b[39m\n\u001b[1;32m   (...)\u001b[0m\n\u001b[0;32m    967\u001b[0m         stacklevel\u001b[38;5;241m=\u001b[39mfind_stack_level(),\n\u001b[0;32m    968\u001b[0m     )\n",
      "\u001b[1;31mFileNotFoundError\u001b[0m: File airbnb_rooms.json does not exist"
     ]
    }
   ],
   "source": [
    "airbnb_rooms = pd.read_json('airbnb_rooms.json', encoding='utf-8')\n",
    "airbnb_rooms.drop(columns= [\"Title\", \"Location\", \"Number_of_Guests\", \"Number_of_Bedrooms\", \"Number_of_Beds\", \"Number_of_Bath\", \"Price\", \"Sleeping_Arrangements\", \"Hosted_by\", \"Response_Rate\", \"Image_1\", \"Image_2\", \"Image_3\", \"Current_Time\"], inplace=True)\n",
    "airbnb_rooms.head(2)"
   ]
  },
  {
   "cell_type": "markdown",
   "metadata": {},
   "source": [
    "## Merging the DataFrames"
   ]
  },
  {
   "cell_type": "code",
   "execution_count": null,
   "metadata": {},
   "outputs": [
    {
     "name": "stdout",
     "output_type": "stream",
     "text": [
      "<class 'pandas.core.frame.DataFrame'>\n",
      "RangeIndex: 669 entries, 0 to 668\n",
      "Data columns (total 7 columns):\n",
      " #   Column             Non-Null Count  Dtype \n",
      "---  ------             --------------  ----- \n",
      " 0   roomTitle          669 non-null    object\n",
      " 1   roomPrice          669 non-null    object\n",
      " 2   roomURL            669 non-null    object\n",
      " 3   hostType           669 non-null    object\n",
      " 4   Rating             669 non-null    object\n",
      " 5   Number_of_Reviews  669 non-null    object\n",
      " 6   Amenities          669 non-null    object\n",
      "dtypes: object(7)\n",
      "memory usage: 36.7+ KB\n"
     ]
    }
   ],
   "source": [
    "merged_df = pd.merge(airbnb_frontPage, airbnb_rooms, left_on='roomURL', right_on='Page_URL')\n",
    "df = merged_df.drop(columns=[\"Page_URL\"]) # keeping the url for future cleaning\n",
    "df.info()\n"
   ]
  },
  {
   "cell_type": "markdown",
   "metadata": {},
   "source": [
    "## Cleaning and Preprocessing"
   ]
  },
  {
   "cell_type": "code",
   "execution_count": null,
   "metadata": {},
   "outputs": [],
   "source": [
    "# Renaming columns for consistency\n",
    "df.rename(columns={\n",
    "    'roomTitle' : 'roomType',\n",
    "    'Rating' : 'rating',\n",
    "    'Number_of_Reviews' : 'countReviews',\n",
    "    'Amenities': 'amenities',\n",
    "}, inplace=True)"
   ]
  },
  {
   "cell_type": "code",
   "execution_count": null,
   "metadata": {},
   "outputs": [
    {
     "name": "stdout",
     "output_type": "stream",
     "text": [
      "<class 'pandas.core.frame.DataFrame'>\n",
      "RangeIndex: 669 entries, 0 to 668\n",
      "Data columns (total 7 columns):\n",
      " #   Column        Non-Null Count  Dtype \n",
      "---  ------        --------------  ----- \n",
      " 0   roomType      669 non-null    object\n",
      " 1   roomPrice     669 non-null    object\n",
      " 2   roomURL       669 non-null    object\n",
      " 3   hostType      669 non-null    object\n",
      " 4   rating        669 non-null    object\n",
      " 5   countReviews  669 non-null    object\n",
      " 6   amenities     669 non-null    object\n",
      "dtypes: object(7)\n",
      "memory usage: 36.7+ KB\n"
     ]
    }
   ],
   "source": [
    "# Drop duplicate rows\n",
    "df.drop_duplicates(inplace=True)\n",
    "df.info()"
   ]
  },
  {
   "cell_type": "code",
   "execution_count": null,
   "metadata": {},
   "outputs": [
    {
     "data": {
      "text/plain": [
       "roomType\n",
       "Casa           113\n",
       "Cabana         105\n",
       "Apartamento    102\n",
       "Quarto          89\n",
       "Chalé           83\n",
       "Loft            45\n",
       "Microcasa       42\n",
       "Hotel           21\n",
       "Pousada         18\n",
       "Lugar           13\n",
       "Contêiner       12\n",
       "Suíte           11\n",
       "Condomínio      10\n",
       "Trailer          2\n",
       "Name: count, dtype: int64"
      ]
     },
     "execution_count": 8,
     "metadata": {},
     "output_type": "execute_result"
    }
   ],
   "source": [
    "# Fixing 'roomType' column\n",
    "df['roomType'] = df['roomType'].str.split().str[0]  # Selecting the first word\n",
    "df['roomType'] = df['roomType'].astype('category')  # Transforming in category dtype\n",
    "\n",
    "df['roomType'].value_counts()  # Checking categories"
   ]
  },
  {
   "cell_type": "code",
   "execution_count": null,
   "metadata": {},
   "outputs": [
    {
     "data": {
      "text/html": [
       "<div>\n",
       "<style scoped>\n",
       "    .dataframe tbody tr th:only-of-type {\n",
       "        vertical-align: middle;\n",
       "    }\n",
       "\n",
       "    .dataframe tbody tr th {\n",
       "        vertical-align: top;\n",
       "    }\n",
       "\n",
       "    .dataframe thead th {\n",
       "        text-align: right;\n",
       "    }\n",
       "</style>\n",
       "<table border=\"1\" class=\"dataframe\">\n",
       "  <thead>\n",
       "    <tr style=\"text-align: right;\">\n",
       "      <th></th>\n",
       "      <th>roomType</th>\n",
       "      <th>roomPrice</th>\n",
       "      <th>roomURL</th>\n",
       "      <th>hostType</th>\n",
       "      <th>rating</th>\n",
       "      <th>countReviews</th>\n",
       "      <th>amenities</th>\n",
       "    </tr>\n",
       "  </thead>\n",
       "  <tbody>\n",
       "    <tr>\n",
       "      <th>0</th>\n",
       "      <td>Loft</td>\n",
       "      <td>268.0</td>\n",
       "      <td>https://www.airbnb.com/rooms/92836566916150808...</td>\n",
       "      <td>Preferido dos hóspedes\\nPreferido dos hóspedes</td>\n",
       "      <td>4.89</td>\n",
       "      <td>74</td>\n",
       "      <td></td>\n",
       "    </tr>\n",
       "  </tbody>\n",
       "</table>\n",
       "</div>"
      ],
      "text/plain": [
       "  roomType  roomPrice                                            roomURL  \\\n",
       "0     Loft      268.0  https://www.airbnb.com/rooms/92836566916150808...   \n",
       "\n",
       "                                         hostType rating countReviews  \\\n",
       "0  Preferido dos hóspedes\\nPreferido dos hóspedes   4.89           74   \n",
       "\n",
       "  amenities  \n",
       "0            "
      ]
     },
     "execution_count": 9,
     "metadata": {},
     "output_type": "execute_result"
    }
   ],
   "source": [
    "# Fixing 'roomPrice' column\n",
    "df['roomPrice'] = df['roomPrice'].str.extract('(\\d+)').astype(float)  # Keeping just the numerical values\n",
    "df.head(1)"
   ]
  },
  {
   "cell_type": "code",
   "execution_count": null,
   "metadata": {},
   "outputs": [
    {
     "name": "stdout",
     "output_type": "stream",
     "text": [
      "['Preferido dos hospedes\\nPreferido dos hospedes' 'Superhost\\nSuperhost'\n",
      " 'De 18 a 20 de set.\\n18  20 de set.' '']\n"
     ]
    }
   ],
   "source": [
    "# Fixing the 'hostType' column\n",
    "import unicodedata\n",
    "\n",
    "def normalize_text(text):  # Function to normalize the strings\n",
    "    text = unicodedata.normalize('NFKD', text)  # Normalize Unicode characters\n",
    "    text = text.encode('ascii', 'ignore').decode('ascii')  # Remove non-ASCII characters\n",
    "    return text.strip()\n",
    "\n",
    "df['hostType'] = df['hostType'].apply(normalize_text)  # Apply normalization to the hostType column\n",
    "\n",
    "print(df['hostType'].unique())  # Check unique values to debug"
   ]
  },
  {
   "cell_type": "code",
   "execution_count": null,
   "metadata": {},
   "outputs": [
    {
     "name": "stdout",
     "output_type": "stream",
     "text": [
      "hostType\n",
      "preferido    476\n",
      "no_class     123\n",
      "superhost     69\n",
      "Name: count, dtype: int64\n"
     ]
    }
   ],
   "source": [
    "# Replace specific problematic strings\n",
    "df['hostType'] = df['hostType'].replace({\n",
    "    'Preferido dos hospedes\\nPreferido dos hospedes': 'preferido',\n",
    "    'Superhost\\nSuperhost': 'superhost',\n",
    "    'De 18 a 20 de set.\\n18  20 de set.': None,\n",
    "    '': 'no_class'\n",
    "}).astype('category')\n",
    "\n",
    "# Display value counts\n",
    "print(df['hostType'].value_counts())"
   ]
  },
  {
   "cell_type": "code",
   "execution_count": null,
   "metadata": {},
   "outputs": [],
   "source": [
    "# This code will process the DataFrame, aggregate the amenities, \n",
    "# and perform one-hot encoding to prepare the data for model training. \n",
    "\n",
    "df['amenities'] = df['amenities'].str.split('\\n')\n",
    "\n",
    "aggregation_map = {\n",
    "    'wifi': 'WiFi',\n",
    "    'hd': 'HDTV',\n",
    "    'tv': 'TV',\n",
    "    'netflix': 'Streaming Service',\n",
    "    'prime': 'Streaming Service',\n",
    "    'roku': 'Streaming Service',\n",
    "    'disney+': 'Streaming Service',\n",
    "    'hbo max': 'Streaming Service',\n",
    "    'streaming': 'Streaming Service',\n",
    "    'parking': 'Parking',\n",
    "    'garage': 'Parking',\n",
    "    'carport': 'Parking',\n",
    "    'ac': 'Air Conditioning',\n",
    "    'air conditioning': 'Air Conditioning',\n",
    "    'pool': 'Pool',\n",
    "    'hot tub': 'Bathtub',\n",
    "    'sauna': 'Sauna',\n",
    "    'fireplace': 'Fireplace',\n",
    "    'microwave': 'Microwave',\n",
    "    'washer': 'Washer',\n",
    "    'dryer': 'Dryer',\n",
    "    'refrigerator': 'Refrigerator',\n",
    "    'smoke alarm': 'Smoke Alarm',\n",
    "    'carbon monoxide alarm': 'Carbon Monoxide Alarm',\n",
    "    'bathroom': 'Bathroom',\n",
    "    'kitchen': 'Kitchen',\n",
    "    'patio': 'Patio',\n",
    "    'balcony': 'Balcony',\n",
    "    'backyard': 'Backyard',\n",
    "    'view': 'View',\n",
    "    'security cameras': 'Security Cameras',\n",
    "    'ev charger': 'EV Charger',\n",
    "    'breakfast': 'Breakfast',\n",
    "    'pets allowed': 'Pets Allowed',\n",
    "    'luggage dropoff allowed': 'Luggage Dropoff Allowed',\n",
    "    'step-free access': 'Accessible',\n",
    "    'step-free path': 'Accessible',\n",
    "    'step-free guest entrance': 'Accessible',\n",
    "    'crib': 'Crib',\n",
    "    'high chair': 'High Chair',\n",
    "    'pack ’n play/travel crib': 'Crib',\n",
    "    'bathtub': 'Bathtub'\n",
    "}\n",
    "\n",
    "# Function to aggregate amenities\n",
    "def aggregate_amenity(amenity):\n",
    "    for keyword, category in aggregation_map.items():\n",
    "        if keyword.lower() in amenity.lower():\n",
    "            return category\n",
    "    return amenity\n",
    "\n",
    "# Aggregate the amenities in the DataFrame\n",
    "df['amenities'] = df['amenities'].apply(lambda amenities: [aggregate_amenity(amenity) for amenity in amenities])\n",
    "\n",
    "# Flatten the list of amenities and get unique values\n",
    "unique_amenities = set(amenity for amenities in df['amenities'] for amenity in amenities)\n",
    "\n",
    "# Create separate columns for each amenity\n",
    "for amenity in unique_amenities:\n",
    "    df[amenity] = df['amenities'].apply(lambda x: 1 if amenity in x else 0)\n",
    "\n",
    "# Drop the original amenities column\n",
    "df = df.drop(columns=['amenities'])"
   ]
  },
  {
   "cell_type": "code",
   "execution_count": null,
   "metadata": {},
   "outputs": [],
   "source": [
    "# Convert the DataFrame to CSV\n",
    "df.to_csv('merged_df.csv', encoding='utf-8', sep=';')"
   ]
  },
  {
   "cell_type": "markdown",
   "metadata": {},
   "source": [
    "## Fine cleaning"
   ]
  },
  {
   "cell_type": "code",
   "execution_count": null,
   "metadata": {},
   "outputs": [
    {
     "data": {
      "text/html": [
       "<div>\n",
       "<style scoped>\n",
       "    .dataframe tbody tr th:only-of-type {\n",
       "        vertical-align: middle;\n",
       "    }\n",
       "\n",
       "    .dataframe tbody tr th {\n",
       "        vertical-align: top;\n",
       "    }\n",
       "\n",
       "    .dataframe thead th {\n",
       "        text-align: right;\n",
       "    }\n",
       "</style>\n",
       "<table border=\"1\" class=\"dataframe\">\n",
       "  <thead>\n",
       "    <tr style=\"text-align: right;\">\n",
       "      <th></th>\n",
       "      <th>roomType</th>\n",
       "      <th>roomPrice</th>\n",
       "      <th>roomURL</th>\n",
       "      <th>hostType</th>\n",
       "      <th>rating</th>\n",
       "      <th>countReviews</th>\n",
       "      <th>Air Conditioning</th>\n",
       "      <th>TV</th>\n",
       "      <th>Dryer</th>\n",
       "      <th>Bathroom</th>\n",
       "      <th>...</th>\n",
       "      <th>Unavailable: Lock on bedroom door</th>\n",
       "      <th>Refrigerator</th>\n",
       "      <th>Smoking allowed</th>\n",
       "      <th>Patio</th>\n",
       "      <th>High Chair</th>\n",
       "      <th>Sauna</th>\n",
       "      <th>Crib</th>\n",
       "      <th>Washer</th>\n",
       "      <th>Accessible</th>\n",
       "      <th>Breakfast</th>\n",
       "    </tr>\n",
       "  </thead>\n",
       "  <tbody>\n",
       "    <tr>\n",
       "      <th>0</th>\n",
       "      <td>Loft</td>\n",
       "      <td>268.0</td>\n",
       "      <td>https://www.airbnb.com/rooms/92836566916150808...</td>\n",
       "      <td>preferido</td>\n",
       "      <td>4.89</td>\n",
       "      <td>74.0</td>\n",
       "      <td>0</td>\n",
       "      <td>0</td>\n",
       "      <td>0</td>\n",
       "      <td>0</td>\n",
       "      <td>...</td>\n",
       "      <td>0</td>\n",
       "      <td>0</td>\n",
       "      <td>0</td>\n",
       "      <td>0</td>\n",
       "      <td>0</td>\n",
       "      <td>0</td>\n",
       "      <td>0</td>\n",
       "      <td>0</td>\n",
       "      <td>0</td>\n",
       "      <td>0</td>\n",
       "    </tr>\n",
       "    <tr>\n",
       "      <th>1</th>\n",
       "      <td>Loft</td>\n",
       "      <td>99.0</td>\n",
       "      <td>https://www.airbnb.com/rooms/53832612?adults=2...</td>\n",
       "      <td>preferido</td>\n",
       "      <td>4.95</td>\n",
       "      <td>148.0</td>\n",
       "      <td>1</td>\n",
       "      <td>1</td>\n",
       "      <td>1</td>\n",
       "      <td>0</td>\n",
       "      <td>...</td>\n",
       "      <td>0</td>\n",
       "      <td>0</td>\n",
       "      <td>0</td>\n",
       "      <td>0</td>\n",
       "      <td>0</td>\n",
       "      <td>0</td>\n",
       "      <td>0</td>\n",
       "      <td>0</td>\n",
       "      <td>0</td>\n",
       "      <td>0</td>\n",
       "    </tr>\n",
       "    <tr>\n",
       "      <th>2</th>\n",
       "      <td>Chalé</td>\n",
       "      <td>329.0</td>\n",
       "      <td>https://www.airbnb.com/rooms/22588205?adults=2...</td>\n",
       "      <td>preferido</td>\n",
       "      <td>4.94</td>\n",
       "      <td>319.0</td>\n",
       "      <td>1</td>\n",
       "      <td>0</td>\n",
       "      <td>0</td>\n",
       "      <td>0</td>\n",
       "      <td>...</td>\n",
       "      <td>0</td>\n",
       "      <td>0</td>\n",
       "      <td>0</td>\n",
       "      <td>0</td>\n",
       "      <td>0</td>\n",
       "      <td>0</td>\n",
       "      <td>0</td>\n",
       "      <td>0</td>\n",
       "      <td>0</td>\n",
       "      <td>0</td>\n",
       "    </tr>\n",
       "  </tbody>\n",
       "</table>\n",
       "<p>3 rows × 45 columns</p>\n",
       "</div>"
      ],
      "text/plain": [
       "  roomType  roomPrice                                            roomURL  \\\n",
       "0     Loft      268.0  https://www.airbnb.com/rooms/92836566916150808...   \n",
       "1     Loft       99.0  https://www.airbnb.com/rooms/53832612?adults=2...   \n",
       "2    Chalé      329.0  https://www.airbnb.com/rooms/22588205?adults=2...   \n",
       "\n",
       "    hostType  rating  countReviews  Air Conditioning  TV  Dryer  Bathroom  \\\n",
       "0  preferido    4.89          74.0                 0   0      0         0   \n",
       "1  preferido    4.95         148.0                 1   1      1         0   \n",
       "2  preferido    4.94         319.0                 1   0      0         0   \n",
       "\n",
       "   ...  Unavailable: Lock on bedroom door  Refrigerator  Smoking allowed  \\\n",
       "0  ...                                  0             0                0   \n",
       "1  ...                                  0             0                0   \n",
       "2  ...                                  0             0                0   \n",
       "\n",
       "   Patio  High Chair  Sauna  Crib  Washer  Accessible  Breakfast  \n",
       "0      0           0      0     0       0           0          0  \n",
       "1      0           0      0     0       0           0          0  \n",
       "2      0           0      0     0       0           0          0  \n",
       "\n",
       "[3 rows x 45 columns]"
      ]
     },
     "execution_count": 14,
     "metadata": {},
     "output_type": "execute_result"
    }
   ],
   "source": [
    "# Load DataFrame 'dataset' and drop first column\n",
    "dataset = pd.read_csv('merged_df.csv', encoding='utf-8', sep=';')\n",
    "dataset.drop(dataset.columns[0], axis=1, inplace=True)\n",
    "dataset.drop(dataset.columns[6], axis=1, inplace=True)\n",
    "\n",
    "dataset.head(3)"
   ]
  },
  {
   "cell_type": "code",
   "execution_count": null,
   "metadata": {},
   "outputs": [
    {
     "name": "stdout",
     "output_type": "stream",
     "text": [
      "<class 'pandas.core.frame.DataFrame'>\n",
      "RangeIndex: 669 entries, 0 to 668\n",
      "Data columns (total 45 columns):\n",
      " #   Column                             Non-Null Count  Dtype  \n",
      "---  ------                             --------------  -----  \n",
      " 0   roomType                           666 non-null    object \n",
      " 1   roomPrice                          668 non-null    float64\n",
      " 2   roomURL                            669 non-null    object \n",
      " 3   hostType                           668 non-null    object \n",
      " 4   rating                             637 non-null    float64\n",
      " 5   countReviews                       637 non-null    float64\n",
      " 6   Air Conditioning                   669 non-null    int64  \n",
      " 7   TV                                 669 non-null    int64  \n",
      " 8   Dryer                              669 non-null    int64  \n",
      " 9   Bathroom                           669 non-null    int64  \n",
      " 10  Ethernet connection                669 non-null    int64  \n",
      " 11  Kitchen                            669 non-null    int64  \n",
      " 12  Elevator                           669 non-null    int64  \n",
      " 13  Luggage Dropoff Allowed            669 non-null    int64  \n",
      " 14  Smoke Alarm                        669 non-null    int64  \n",
      " 15  WiFi                               669 non-null    int64  \n",
      " 16  Parking                            669 non-null    int64  \n",
      " 17  Pets Allowed                       669 non-null    int64  \n",
      " 18  EV Charger                         669 non-null    int64  \n",
      " 19  Bedroom                            669 non-null    int64  \n",
      " 20  Lock on bedroom door               669 non-null    int64  \n",
      " 21  Fire pit                           669 non-null    int64  \n",
      " 22  Lit path to the guest entrance     669 non-null    int64  \n",
      " 23  Waterfront                         669 non-null    int64  \n",
      " 24  Long term stays allowed            669 non-null    int64  \n",
      " 25  Bathtub                            669 non-null    int64  \n",
      " 26  Laundry room                       669 non-null    int64  \n",
      " 27  Security Cameras                   669 non-null    int64  \n",
      " 28  Baby bath                          669 non-null    int64  \n",
      " 29  Pool                               669 non-null    int64  \n",
      " 30  Microwave                          669 non-null    int64  \n",
      " 31  HDTV                               669 non-null    int64  \n",
      " 32  Bedroom 2                          669 non-null    int64  \n",
      " 33  View                               669 non-null    int64  \n",
      " 34  Carbon Monoxide Alarm              669 non-null    int64  \n",
      " 35  Unavailable: Lock on bedroom door  669 non-null    int64  \n",
      " 36  Refrigerator                       669 non-null    int64  \n",
      " 37  Smoking allowed                    669 non-null    int64  \n",
      " 38  Patio                              669 non-null    int64  \n",
      " 39  High Chair                         669 non-null    int64  \n",
      " 40  Sauna                              669 non-null    int64  \n",
      " 41  Crib                               669 non-null    int64  \n",
      " 42  Washer                             669 non-null    int64  \n",
      " 43  Accessible                         669 non-null    int64  \n",
      " 44  Breakfast                          669 non-null    int64  \n",
      "dtypes: float64(3), int64(39), object(3)\n",
      "memory usage: 235.3+ KB\n"
     ]
    }
   ],
   "source": [
    "dataset.info()"
   ]
  },
  {
   "cell_type": "code",
   "execution_count": null,
   "metadata": {},
   "outputs": [
    {
     "data": {
      "text/plain": [
       "roomType         3\n",
       "roomPrice        1\n",
       "hostType         1\n",
       "rating          32\n",
       "countReviews    32\n",
       "dtype: int64"
      ]
     },
     "execution_count": 16,
     "metadata": {},
     "output_type": "execute_result"
    }
   ],
   "source": [
    "# Finding registers with null values\n",
    "nulls = dataset.isnull().sum()\n",
    "nulls[nulls > 0]\n",
    "\n",
    "## 'rating' and 'countReviews' columns have too much null values to judt drop\n",
    "## or to fix by statistical replacements. I'll have to fix them manually..."
   ]
  },
  {
   "cell_type": "markdown",
   "metadata": {},
   "source": [
    "As I was trying to fix the null 'rating' and 'countReviews' manually, I've noticed that those are new rooms with no reviews or ratings. That means that roughly 5% of the rooms offered in my search were relatively new! \n",
    "\n",
    "That means we need to capture this 'newness' in new features."
   ]
  },
  {
   "cell_type": "code",
   "execution_count": null,
   "metadata": {},
   "outputs": [],
   "source": [
    "# Fill Null Values with Specific Indicators\n",
    "dataset['rating'] = dataset['rating'].fillna(0)\n",
    "dataset['countReviews'] = dataset['countReviews'].fillna(0)\n",
    "\n",
    "# Create Additional Features\n",
    "dataset['is_new'] = ((dataset['rating'] == 0) & (dataset['countReviews'] == 0)).astype(int)\n",
    "\n",
    "# Fill remaining null values in other columns\n",
    "for column in dataset.columns:\n",
    "    if dataset[column].dtype in ['float64', 'int64']:\n",
    "        dataset[column] = dataset[column].fillna(dataset[column].mean())\n",
    "    else:\n",
    "        dataset[column] = dataset[column].fillna(dataset[column].mode()[0])"
   ]
  },
  {
   "cell_type": "code",
   "execution_count": null,
   "metadata": {},
   "outputs": [
    {
     "data": {
      "text/plain": [
       "Series([], dtype: int64)"
      ]
     },
     "execution_count": 18,
     "metadata": {},
     "output_type": "execute_result"
    }
   ],
   "source": [
    "# Finding registers with null values\n",
    "nulls_ = dataset.isnull().sum()\n",
    "nulls_[nulls_ > 0]"
   ]
  },
  {
   "cell_type": "code",
   "execution_count": null,
   "metadata": {},
   "outputs": [
    {
     "name": "stdout",
     "output_type": "stream",
     "text": [
      "Empty DataFrame\n",
      "Columns: [roomType, roomPrice, roomURL, hostType, rating, countReviews, Air Conditioning, TV, Dryer, Bathroom, Ethernet connection, Kitchen, Elevator, Luggage Dropoff Allowed, Smoke Alarm, WiFi, Parking, Pets Allowed, EV Charger, Bedroom, Lock on bedroom door, Fire pit, Lit path to the guest entrance, Waterfront, Long term stays allowed, Bathtub, Laundry room, Security Cameras, Baby bath, Pool, Microwave, HDTV, Bedroom 2, View, Carbon Monoxide Alarm, Unavailable: Lock on bedroom door, Refrigerator, Smoking allowed, Patio, High Chair, Sauna, Crib, Washer, Accessible, Breakfast, is_new]\n",
      "Index: []\n",
      "\n",
      "[0 rows x 46 columns]\n"
     ]
    }
   ],
   "source": [
    "# There are some registries that have a price of just R$ 1.00, which doesn't make sense.\n",
    "# Let's do a sanity check before going forward\n",
    "\n",
    "wrong_price_registries = dataset[dataset['roomPrice'] <=80]\n",
    "dataset.drop(wrong_price_registries.index, inplace=True)\n",
    "\n",
    "print(dataset[dataset['roomPrice'] <= 80])"
   ]
  },
  {
   "cell_type": "code",
   "execution_count": null,
   "metadata": {},
   "outputs": [
    {
     "ename": "NameError",
     "evalue": "name 'dataset' is not defined",
     "output_type": "error",
     "traceback": [
      "\u001b[1;31m---------------------------------------------------------------------------\u001b[0m",
      "\u001b[1;31mNameError\u001b[0m                                 Traceback (most recent call last)",
      "Cell \u001b[1;32mIn[1], line 1\u001b[0m\n\u001b[1;32m----> 1\u001b[0m \u001b[43mdataset\u001b[49m\u001b[38;5;241m.\u001b[39mto_csv(\u001b[38;5;124m'\u001b[39m\u001b[38;5;124mfinal_dataset.csv\u001b[39m\u001b[38;5;124m'\u001b[39m, index\u001b[38;5;241m=\u001b[39m\u001b[38;5;28;01mFalse\u001b[39;00m)\n\u001b[0;32m      3\u001b[0m \u001b[38;5;28mprint\u001b[39m(dataset\u001b[38;5;241m.\u001b[39minfo())\n",
      "\u001b[1;31mNameError\u001b[0m: name 'dataset' is not defined"
     ]
    }
   ],
   "source": [
    "dataset.to_csv('final_dataset.csv', index=False)\n",
    "\n",
    "print(dataset.info())"
   ]
  }
 ],
 "metadata": {
  "kernelspec": {
   "display_name": "Python 3",
   "language": "python",
   "name": "python3"
  },
  "language_info": {
   "codemirror_mode": {
    "name": "ipython",
    "version": 3
   },
   "file_extension": ".py",
   "mimetype": "text/x-python",
   "name": "python",
   "nbconvert_exporter": "python",
   "pygments_lexer": "ipython3",
   "version": "3.11.9"
  }
 },
 "nbformat": 4,
 "nbformat_minor": 2
}
