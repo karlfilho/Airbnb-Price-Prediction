{
 "cells": [
  {
   "cell_type": "markdown",
   "metadata": {},
   "source": [
    "# Exploratory Data Analysis\n",
    "This dataset was scraped from Airbnb using Octoparse through a 2-step method, treated, merged and processed. You can check this all in the `preprocessing.ipynb` notebook in the repository. \n",
    "\n",
    "Our objective is to use it to analyse and understand the Airbnb market in Campos do Jordão, a touristic town in the state of São Paulo, Brazil."
   ]
  },
  {
   "cell_type": "code",
   "execution_count": null,
   "metadata": {},
   "outputs": [],
   "source": [
    "# Importing necessary libraries\n",
    "import pandas as pd\n",
    "import numpy as np\n",
    "import matplotlib.pyplot as plt\n",
    "import seaborn as sns"
   ]
  },
  {
   "cell_type": "code",
   "execution_count": null,
   "metadata": {},
   "outputs": [],
   "source": [
    "# Loading the dataset\n",
    "df = pd.read_csv('datasets/final_dataset.csv')\n",
    "\n",
    "df.info()"
   ]
  },
  {
   "cell_type": "markdown",
   "metadata": {},
   "source": [
    "## Descriptive Analysis"
   ]
  },
  {
   "cell_type": "code",
   "execution_count": null,
   "metadata": {},
   "outputs": [],
   "source": [
    "## Descriptive Analysis\n",
    "num_df = df[['roomPrice', 'rating', 'countReviews']]\n",
    "cat_df = df[['roomType', 'hostType', 'is_new']].astype('category')"
   ]
  },
  {
   "cell_type": "code",
   "execution_count": null,
   "metadata": {},
   "outputs": [],
   "source": [
    "# Numerical columns Analysis\n",
    "num_descriptive = num_df.describe()\n",
    "\n",
    "num_descriptive"
   ]
  },
  {
   "cell_type": "markdown",
   "metadata": {},
   "source": [
    "### Price"
   ]
  },
  {
   "cell_type": "code",
   "execution_count": null,
   "metadata": {},
   "outputs": [],
   "source": [
    "# Price columns Boxplots\n",
    "sns.set_theme(context= 'notebook', style=\"whitegrid\")\n",
    "\n",
    "plt.figure(figsize=(14, 4))\n",
    "sns.boxplot(x=df['roomPrice'])\n",
    "\n",
    "plt.title('Boxplot of Room Prices')\n",
    "plt.xlabel('Price (R$)')\n",
    "plt.grid(True, axis='x')\n",
    "\n",
    "plt.show()"
   ]
  },
  {
   "cell_type": "code",
   "execution_count": null,
   "metadata": {},
   "outputs": [],
   "source": [
    "# Price histogram\n",
    "sns.set_theme(context= 'notebook', style=\"whitegrid\")\n",
    "plt.figure(figsize=(12, 6))\n",
    "\n",
    "sns.histplot(df['roomPrice'], bins=30, kde=True)\n",
    "\n",
    "plt.title('Distribution of Room Prices')\n",
    "plt.xlabel('Price (R$)')\n",
    "plt.ylabel('Frequency')\n",
    "plt.grid(True, axis='y')\n",
    "\n",
    "plt.show()"
   ]
  },
  {
   "cell_type": "code",
   "execution_count": null,
   "metadata": {},
   "outputs": [],
   "source": [
    "# Creating 3 price groups\n",
    "price_p25 = num_descriptive['roomPrice'].loc['25%']\n",
    "price_p75 = num_descriptive['roomPrice'].loc['75%']\n",
    "\n",
    "def categorize_price(price):\n",
    "    if price <= price_p25:\n",
    "        return 'Low price group'\n",
    "    elif price <= price_p75:\n",
    "        return 'Medium price group'\n",
    "    else:\n",
    "        return 'High price group'\n",
    "\n",
    "df['priceCategory'] = df['roomPrice'].apply(categorize_price)\n",
    "\n",
    "price_category_counts = df['priceCategory'].value_counts()\n",
    "print(price_category_counts)"
   ]
  },
  {
   "cell_type": "code",
   "execution_count": null,
   "metadata": {},
   "outputs": [],
   "source": [
    "grouped_description = df.groupby('priceCategory')[['roomPrice', 'rating', 'countReviews']].describe()\n",
    "\n",
    "for group in grouped_description.index.levels[0]:\n",
    "    print(f\"Descrição para {group}:\")\n",
    "    print(grouped_description.loc[group])\n",
    "    print(\"\\n\" + \"=\"*80 + \"\\n\")"
   ]
  },
  {
   "cell_type": "markdown",
   "metadata": {},
   "source": [
    "### Room types"
   ]
  },
  {
   "cell_type": "code",
   "execution_count": null,
   "metadata": {},
   "outputs": [],
   "source": [
    "# Room types\n",
    "room_types = df['roomType'].value_counts(normalize=True)\n",
    "room_types"
   ]
  }
 ],
 "metadata": {
  "language_info": {
   "name": "python"
  }
 },
 "nbformat": 4,
 "nbformat_minor": 2
}
