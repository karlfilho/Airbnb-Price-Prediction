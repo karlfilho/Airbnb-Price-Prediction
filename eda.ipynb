{
 "cells": [
  {
   "cell_type": "markdown",
   "metadata": {},
   "source": [
    "# Exploratory Data Analysis\n",
    "This dataset was scraped from Airbnb using Octoparse through a 2-step method, treated, merged and processed. You can check this all in the `preprocessing.ipynb` notebook in the repository. \n",
    "\n",
    "Our objective is to use it to analyse and understand the Airbnb market in Campos do Jordão, a touristic town in the state of São Paulo, Brazil."
   ]
  },
  {
   "cell_type": "code",
   "execution_count": 35,
   "metadata": {},
   "outputs": [],
   "source": [
    "# Importing necessary libraries\n",
    "import pandas as pd\n",
    "import numpy as np\n",
    "import matplotlib.pyplot as plt\n",
    "import seaborn as sns"
   ]
  },
  {
   "cell_type": "code",
   "execution_count": 42,
   "metadata": {},
   "outputs": [
    {
     "name": "stdout",
     "output_type": "stream",
     "text": [
      "<class 'pandas.core.frame.DataFrame'>\n",
      "RangeIndex: 643 entries, 0 to 642\n",
      "Data columns (total 46 columns):\n",
      " #   Column                             Non-Null Count  Dtype  \n",
      "---  ------                             --------------  -----  \n",
      " 0   roomType                           643 non-null    object \n",
      " 1   roomPrice                          643 non-null    float64\n",
      " 2   roomURL                            643 non-null    object \n",
      " 3   hostType                           643 non-null    object \n",
      " 4   rating                             643 non-null    float64\n",
      " 5   countReviews                       643 non-null    float64\n",
      " 6   Air Conditioning                   643 non-null    int64  \n",
      " 7   TV                                 643 non-null    int64  \n",
      " 8   Dryer                              643 non-null    int64  \n",
      " 9   Bathroom                           643 non-null    int64  \n",
      " 10  Ethernet connection                643 non-null    int64  \n",
      " 11  Kitchen                            643 non-null    int64  \n",
      " 12  Elevator                           643 non-null    int64  \n",
      " 13  Luggage Dropoff Allowed            643 non-null    int64  \n",
      " 14  Smoke Alarm                        643 non-null    int64  \n",
      " 15  WiFi                               643 non-null    int64  \n",
      " 16  Parking                            643 non-null    int64  \n",
      " 17  Pets Allowed                       643 non-null    int64  \n",
      " 18  EV Charger                         643 non-null    int64  \n",
      " 19  Bedroom                            643 non-null    int64  \n",
      " 20  Lock on bedroom door               643 non-null    int64  \n",
      " 21  Fire pit                           643 non-null    int64  \n",
      " 22  Lit path to the guest entrance     643 non-null    int64  \n",
      " 23  Waterfront                         643 non-null    int64  \n",
      " 24  Long term stays allowed            643 non-null    int64  \n",
      " 25  Bathtub                            643 non-null    int64  \n",
      " 26  Laundry room                       643 non-null    int64  \n",
      " 27  Security Cameras                   643 non-null    int64  \n",
      " 28  Baby bath                          643 non-null    int64  \n",
      " 29  Pool                               643 non-null    int64  \n",
      " 30  Microwave                          643 non-null    int64  \n",
      " 31  HDTV                               643 non-null    int64  \n",
      " 32  Bedroom 2                          643 non-null    int64  \n",
      " 33  View                               643 non-null    int64  \n",
      " 34  Carbon Monoxide Alarm              643 non-null    int64  \n",
      " 35  Unavailable: Lock on bedroom door  643 non-null    int64  \n",
      " 36  Refrigerator                       643 non-null    int64  \n",
      " 37  Smoking allowed                    643 non-null    int64  \n",
      " 38  Patio                              643 non-null    int64  \n",
      " 39  High Chair                         643 non-null    int64  \n",
      " 40  Sauna                              643 non-null    int64  \n",
      " 41  Crib                               643 non-null    int64  \n",
      " 42  Washer                             643 non-null    int64  \n",
      " 43  Accessible                         643 non-null    int64  \n",
      " 44  Breakfast                          643 non-null    int64  \n",
      " 45  is_new                             643 non-null    int64  \n",
      "dtypes: float64(3), int64(40), object(3)\n",
      "memory usage: 231.2+ KB\n"
     ]
    }
   ],
   "source": [
    "# Loading the dataset\n",
    "df = pd.read_csv('datasets/final_dataset.csv')\n",
    "df = df.drop(df.columns[0], axis=1)  # dropping first column (old index)\n",
    "\n",
    "df.info()"
   ]
  },
  {
   "cell_type": "markdown",
   "metadata": {},
   "source": [
    "## "
   ]
  }
 ],
 "metadata": {
  "language_info": {
   "name": "python"
  }
 },
 "nbformat": 4,
 "nbformat_minor": 2
}
