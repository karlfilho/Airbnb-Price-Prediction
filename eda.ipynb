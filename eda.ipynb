{
 "cells": [
  {
   "cell_type": "markdown",
   "metadata": {},
   "source": [
    "# Exploratory Data Analysis\n",
    "This dataset was scraped from Airbnb using Octoparse through a 2-step method, treated, merged and processed. You can check this all in the `preprocessing.ipynb` notebook in the repository. \n",
    "\n",
    "Our objective is to use it to analyse and understand the Airbnb market in Campos do Jordão, a touristic town in the state of São Paulo, Brazil."
   ]
  },
  {
   "cell_type": "code",
   "execution_count": 33,
   "metadata": {},
   "outputs": [],
   "source": [
    "# Importing necessary libraries\n",
    "import pandas as pd\n",
    "import numpy as np\n",
    "import matplotlib.pyplot as plt\n",
    "import seaborn as sns\n",
    "import scipy.stats as stats\n"
   ]
  },
  {
   "cell_type": "code",
   "execution_count": 34,
   "metadata": {},
   "outputs": [
    {
     "name": "stdout",
     "output_type": "stream",
     "text": [
      "<class 'pandas.core.frame.DataFrame'>\n",
      "RangeIndex: 643 entries, 0 to 642\n",
      "Data columns (total 46 columns):\n",
      " #   Column                             Non-Null Count  Dtype  \n",
      "---  ------                             --------------  -----  \n",
      " 0   roomType                           643 non-null    object \n",
      " 1   roomPrice                          643 non-null    float64\n",
      " 2   roomURL                            643 non-null    object \n",
      " 3   qualityBadge                       643 non-null    object \n",
      " 4   rating                             643 non-null    float64\n",
      " 5   countReviews                       643 non-null    float64\n",
      " 6   Air Conditioning                   643 non-null    int64  \n",
      " 7   TV                                 643 non-null    int64  \n",
      " 8   Dryer                              643 non-null    int64  \n",
      " 9   Bathroom                           643 non-null    int64  \n",
      " 10  Ethernet connection                643 non-null    int64  \n",
      " 11  Kitchen                            643 non-null    int64  \n",
      " 12  Elevator                           643 non-null    int64  \n",
      " 13  Luggage Dropoff Allowed            643 non-null    int64  \n",
      " 14  Smoke Alarm                        643 non-null    int64  \n",
      " 15  WiFi                               643 non-null    int64  \n",
      " 16  Parking                            643 non-null    int64  \n",
      " 17  Pets Allowed                       643 non-null    int64  \n",
      " 18  EV Charger                         643 non-null    int64  \n",
      " 19  Bedroom                            643 non-null    int64  \n",
      " 20  Lock on bedroom door               643 non-null    int64  \n",
      " 21  Fire pit                           643 non-null    int64  \n",
      " 22  Lit path to the guest entrance     643 non-null    int64  \n",
      " 23  Waterfront                         643 non-null    int64  \n",
      " 24  Long term stays allowed            643 non-null    int64  \n",
      " 25  Bathtub                            643 non-null    int64  \n",
      " 26  Laundry room                       643 non-null    int64  \n",
      " 27  Security Cameras                   643 non-null    int64  \n",
      " 28  Baby bath                          643 non-null    int64  \n",
      " 29  Pool                               643 non-null    int64  \n",
      " 30  Microwave                          643 non-null    int64  \n",
      " 31  HDTV                               643 non-null    int64  \n",
      " 32  Bedroom 2                          643 non-null    int64  \n",
      " 33  View                               643 non-null    int64  \n",
      " 34  Carbon Monoxide Alarm              643 non-null    int64  \n",
      " 35  Unavailable: Lock on bedroom door  643 non-null    int64  \n",
      " 36  Refrigerator                       643 non-null    int64  \n",
      " 37  Smoking allowed                    643 non-null    int64  \n",
      " 38  Patio                              643 non-null    int64  \n",
      " 39  High Chair                         643 non-null    int64  \n",
      " 40  Sauna                              643 non-null    int64  \n",
      " 41  Crib                               643 non-null    int64  \n",
      " 42  Washer                             643 non-null    int64  \n",
      " 43  Accessible                         643 non-null    int64  \n",
      " 44  Breakfast                          643 non-null    int64  \n",
      " 45  is_new                             643 non-null    int64  \n",
      "dtypes: float64(3), int64(40), object(3)\n",
      "memory usage: 231.2+ KB\n"
     ]
    }
   ],
   "source": [
    "# Loading the dataset\n",
    "df = pd.read_csv('datasets/final_dataset.csv')\n",
    "df.rename(columns={'hostType': 'qualityBadge'}, inplace=True)\n",
    "\n",
    "df.info()"
   ]
  },
  {
   "cell_type": "markdown",
   "metadata": {},
   "source": [
    "## Descriptive Analysis"
   ]
  },
  {
   "cell_type": "code",
   "execution_count": 35,
   "metadata": {},
   "outputs": [],
   "source": [
    "## Descriptive Analysis\n",
    "num_df = df[['roomPrice', 'rating', 'countReviews']]\n",
    "cat_df = df[['roomType', 'qualityBadge', 'is_new']].astype('category')"
   ]
  },
  {
   "cell_type": "code",
   "execution_count": 36,
   "metadata": {},
   "outputs": [
    {
     "data": {
      "text/html": [
       "<div>\n",
       "<style scoped>\n",
       "    .dataframe tbody tr th:only-of-type {\n",
       "        vertical-align: middle;\n",
       "    }\n",
       "\n",
       "    .dataframe tbody tr th {\n",
       "        vertical-align: top;\n",
       "    }\n",
       "\n",
       "    .dataframe thead th {\n",
       "        text-align: right;\n",
       "    }\n",
       "</style>\n",
       "<table border=\"1\" class=\"dataframe\">\n",
       "  <thead>\n",
       "    <tr style=\"text-align: right;\">\n",
       "      <th></th>\n",
       "      <th>roomPrice</th>\n",
       "      <th>rating</th>\n",
       "      <th>countReviews</th>\n",
       "    </tr>\n",
       "  </thead>\n",
       "  <tbody>\n",
       "    <tr>\n",
       "      <th>count</th>\n",
       "      <td>643.000000</td>\n",
       "      <td>643.000000</td>\n",
       "      <td>643.000000</td>\n",
       "    </tr>\n",
       "    <tr>\n",
       "      <th>mean</th>\n",
       "      <td>397.142686</td>\n",
       "      <td>4.656252</td>\n",
       "      <td>78.353033</td>\n",
       "    </tr>\n",
       "    <tr>\n",
       "      <th>std</th>\n",
       "      <td>215.939917</td>\n",
       "      <td>1.073395</td>\n",
       "      <td>82.308353</td>\n",
       "    </tr>\n",
       "    <tr>\n",
       "      <th>min</th>\n",
       "      <td>83.000000</td>\n",
       "      <td>0.000000</td>\n",
       "      <td>0.000000</td>\n",
       "    </tr>\n",
       "    <tr>\n",
       "      <th>25%</th>\n",
       "      <td>236.500000</td>\n",
       "      <td>4.830000</td>\n",
       "      <td>17.000000</td>\n",
       "    </tr>\n",
       "    <tr>\n",
       "      <th>50%</th>\n",
       "      <td>360.000000</td>\n",
       "      <td>4.940000</td>\n",
       "      <td>43.000000</td>\n",
       "    </tr>\n",
       "    <tr>\n",
       "      <th>75%</th>\n",
       "      <td>511.000000</td>\n",
       "      <td>4.990000</td>\n",
       "      <td>117.000000</td>\n",
       "    </tr>\n",
       "    <tr>\n",
       "      <th>max</th>\n",
       "      <td>993.000000</td>\n",
       "      <td>5.000000</td>\n",
       "      <td>507.000000</td>\n",
       "    </tr>\n",
       "  </tbody>\n",
       "</table>\n",
       "</div>"
      ],
      "text/plain": [
       "        roomPrice      rating  countReviews\n",
       "count  643.000000  643.000000    643.000000\n",
       "mean   397.142686    4.656252     78.353033\n",
       "std    215.939917    1.073395     82.308353\n",
       "min     83.000000    0.000000      0.000000\n",
       "25%    236.500000    4.830000     17.000000\n",
       "50%    360.000000    4.940000     43.000000\n",
       "75%    511.000000    4.990000    117.000000\n",
       "max    993.000000    5.000000    507.000000"
      ]
     },
     "execution_count": 36,
     "metadata": {},
     "output_type": "execute_result"
    }
   ],
   "source": [
    "# Numerical columns Analysis\n",
    "num_descriptive = num_df.describe()\n",
    "\n",
    "num_descriptive"
   ]
  },
  {
   "cell_type": "markdown",
   "metadata": {},
   "source": [
    "### Price"
   ]
  },
  {
   "cell_type": "code",
   "execution_count": 37,
   "metadata": {},
   "outputs": [
    {
     "data": {
      "image/png": "[encoded data removed]",
      "text/plain": [
       "<Figure size 1400x400 with 1 Axes>"
      ]
     },
     "metadata": {},
     "output_type": "display_data"
    }
   ],
   "source": [
    "# Price columns Boxplots\n",
    "sns.set_theme(context= 'notebook', style=\"whitegrid\")\n",
    "\n",
    "plt.figure(figsize=(14, 4))\n",
    "sns.boxplot(x=df['roomPrice'])\n",
    "\n",
    "plt.title('Boxplot of Room Prices')\n",
    "plt.xlabel('Price (R$)')\n",
    "plt.grid(True, axis='x')\n",
    "\n",
    "plt.show()"
   ]
  },
  {
   "cell_type": "code",
   "execution_count": 38,
   "metadata": {},
   "outputs": [
    {
     "name": "stderr",
     "output_type": "stream",
     "text": [
      "c:\\Users\\karlf\\anaconda3\\envs\\scrapy-venv\\Lib\\site-packages\\seaborn\\_oldcore.py:1119: FutureWarning: use_inf_as_na option is deprecated and will be removed in a future version. Convert inf values to NaN before operating instead.\n",
      "  with pd.option_context('mode.use_inf_as_na', True):\n"
     ]
    },
    {
     "data": {
      "image/png": "[encoded data removed]",
      "text/plain": [
       "<Figure size 1200x600 with 1 Axes>"
      ]
     },
     "metadata": {},
     "output_type": "display_data"
    }
   ],
   "source": [
    "# Price histogram\n",
    "sns.set_theme(context= 'notebook', style=\"whitegrid\")\n",
    "plt.figure(figsize=(12, 6))\n",
    "\n",
    "sns.histplot(df['roomPrice'], bins=30, kde=True)\n",
    "\n",
    "plt.title('Distribution of Room Prices')\n",
    "plt.xlabel('Price (R$)')\n",
    "plt.ylabel('Frequency')\n",
    "plt.grid(True, axis='y')\n",
    "\n",
    "plt.show()"
   ]
  },
  {
   "cell_type": "code",
   "execution_count": 39,
   "metadata": {},
   "outputs": [
    {
     "name": "stdout",
     "output_type": "stream",
     "text": [
      "priceCategory\n",
      "Medium price group    321\n",
      "Low price group       161\n",
      "High price group      161\n",
      "Name: count, dtype: int64\n"
     ]
    }
   ],
   "source": [
    "# Creating 3 price groups\n",
    "price_p25 = num_descriptive['roomPrice'].loc['25%']\n",
    "price_p75 = num_descriptive['roomPrice'].loc['75%']\n",
    "\n",
    "def categorize_price(price):\n",
    "    if price <= price_p25:\n",
    "        return 'Low price group'\n",
    "    elif price <= price_p75:\n",
    "        return 'Medium price group'\n",
    "    else:\n",
    "        return 'High price group'\n",
    "\n",
    "df['priceCategory'] = df['roomPrice'].apply(categorize_price)\n",
    "\n",
    "price_category_counts = df['priceCategory'].value_counts()\n",
    "print(price_category_counts)"
   ]
  },
  {
   "cell_type": "code",
   "execution_count": 40,
   "metadata": {},
   "outputs": [
    {
     "name": "stdout",
     "output_type": "stream",
     "text": [
      "Descrição para High price group:\n",
      "roomPrice     count    161.000000\n",
      "              mean     696.409938\n",
      "              std      145.903242\n",
      "              min      514.000000\n",
      "              25%      581.000000\n",
      "              50%      649.000000\n",
      "              75%      782.000000\n",
      "              max      993.000000\n",
      "rating        count    161.000000\n",
      "              mean       4.826522\n",
      "              std        0.774966\n",
      "              min        0.000000\n",
      "              25%        4.920000\n",
      "              50%        4.970000\n",
      "              75%        5.000000\n",
      "              max        5.000000\n",
      "countReviews  count    161.000000\n",
      "              mean      71.801242\n",
      "              std       80.373567\n",
      "              min        0.000000\n",
      "              25%       16.000000\n",
      "              50%       36.000000\n",
      "              75%      105.000000\n",
      "              max      401.000000\n",
      "Name: High price group, dtype: float64\n",
      "\n",
      "================================================================================\n",
      "\n",
      "Descrição para Low price group:\n",
      "roomPrice     count    161.000000\n",
      "              mean     154.316770\n",
      "              std       55.149504\n",
      "              min       83.000000\n",
      "              25%      106.000000\n",
      "              50%      149.000000\n",
      "              75%      208.000000\n",
      "              max      236.000000\n",
      "rating        count    161.000000\n",
      "              mean       4.636149\n",
      "              std        0.848821\n",
      "              min        0.000000\n",
      "              25%        4.670000\n",
      "              50%        4.780000\n",
      "              75%        4.940000\n",
      "              max        5.000000\n",
      "countReviews  count    161.000000\n",
      "              mean      75.913043\n",
      "              std       65.041275\n",
      "              min        0.000000\n",
      "              25%       27.000000\n",
      "              50%       67.000000\n",
      "              75%      100.000000\n",
      "              max      344.000000\n",
      "Name: Low price group, dtype: float64\n",
      "\n",
      "================================================================================\n",
      "\n",
      "Descrição para Medium price group:\n",
      "roomPrice     count    321.000000\n",
      "              mean     368.834103\n",
      "              std       76.526091\n",
      "              min      237.000000\n",
      "              25%      301.000000\n",
      "              50%      360.000000\n",
      "              75%      439.000000\n",
      "              max      508.000000\n",
      "rating        count    321.000000\n",
      "              mean       4.580935\n",
      "              std        1.276926\n",
      "              min        0.000000\n",
      "              25%        4.880000\n",
      "              50%        4.950000\n",
      "              75%        4.990000\n",
      "              max        5.000000\n",
      "countReviews  count    321.000000\n",
      "              mean      82.862928\n",
      "              std       90.562340\n",
      "              min        0.000000\n",
      "              25%       12.000000\n",
      "              50%       41.000000\n",
      "              75%      135.000000\n",
      "              max      507.000000\n",
      "Name: Medium price group, dtype: float64\n",
      "\n",
      "================================================================================\n",
      "\n"
     ]
    }
   ],
   "source": [
    "grouped_description = df.groupby('priceCategory')[['roomPrice', 'rating', 'countReviews']].describe()\n",
    "\n",
    "for group in grouped_description.index.get_level_values(0).unique():\n",
    "    print(f\"Descrição para {group}:\")\n",
    "    print(grouped_description.loc[group])\n",
    "    print(\"\\n\" + \"=\"*80 + \"\\n\")"
   ]
  },
  {
   "cell_type": "code",
   "execution_count": 41,
   "metadata": {},
   "outputs": [
    {
     "data": {
      "text/html": [
       "<div>\n",
       "<style scoped>\n",
       "    .dataframe tbody tr th:only-of-type {\n",
       "        vertical-align: middle;\n",
       "    }\n",
       "\n",
       "    .dataframe tbody tr th {\n",
       "        vertical-align: top;\n",
       "    }\n",
       "\n",
       "    .dataframe thead th {\n",
       "        text-align: right;\n",
       "    }\n",
       "</style>\n",
       "<table border=\"1\" class=\"dataframe\">\n",
       "  <thead>\n",
       "    <tr style=\"text-align: right;\">\n",
       "      <th></th>\n",
       "      <th>priceCategory</th>\n",
       "      <th>averageRating</th>\n",
       "    </tr>\n",
       "  </thead>\n",
       "  <tbody>\n",
       "    <tr>\n",
       "      <th>0</th>\n",
       "      <td>High price group</td>\n",
       "      <td>4.826522</td>\n",
       "    </tr>\n",
       "    <tr>\n",
       "      <th>1</th>\n",
       "      <td>Low price group</td>\n",
       "      <td>4.636149</td>\n",
       "    </tr>\n",
       "    <tr>\n",
       "      <th>2</th>\n",
       "      <td>Medium price group</td>\n",
       "      <td>4.580935</td>\n",
       "    </tr>\n",
       "  </tbody>\n",
       "</table>\n",
       "</div>"
      ],
      "text/plain": [
       "        priceCategory  averageRating\n",
       "0    High price group       4.826522\n",
       "1     Low price group       4.636149\n",
       "2  Medium price group       4.580935"
      ]
     },
     "execution_count": 41,
     "metadata": {},
     "output_type": "execute_result"
    }
   ],
   "source": [
    "# Calculate the average rating for each price group\n",
    "average_rating_per_price_group = df.groupby('priceCategory')['rating'].mean().rename('averageRating').reset_index()\n",
    "\n",
    "average_rating_per_price_group"
   ]
  },
  {
   "cell_type": "code",
   "execution_count": 42,
   "metadata": {},
   "outputs": [
    {
     "name": "stdout",
     "output_type": "stream",
     "text": [
      "ANOVA test result: F_onewayResult(statistic=2.8605275268886468, pvalue=0.05797068235613843)\n"
     ]
    }
   ],
   "source": [
    "# Is the difference between average ratings statiscally significant?\n",
    "# Perform the ANOVA test\n",
    "anova_result = stats.f_oneway(\n",
    "    df[df['priceCategory'] == 'Low price group']['rating'],\n",
    "    df[df['priceCategory'] == 'Medium price group']['rating'],\n",
    "    df[df['priceCategory'] == 'High price group']['rating']\n",
    ")\n",
    "\n",
    "# Print the results of the ANOVA test\n",
    "print('ANOVA test result:', anova_result)\n",
    "\n",
    "# If the p-value is less than 0.05, the differences are statistically significant.\n",
    "# If the p-value is greater than 0.05, the differences are not statistically significant."
   ]
  },
  {
   "cell_type": "markdown",
   "metadata": {},
   "source": [
    "### Room types"
   ]
  },
  {
   "cell_type": "code",
   "execution_count": 43,
   "metadata": {},
   "outputs": [
    {
     "data": {
      "text/plain": [
       "roomType\n",
       "Casa           0.177294\n",
       "Apartamento    0.158631\n",
       "Quarto         0.138414\n",
       "Cabana         0.130638\n",
       "Chalé          0.129082\n",
       "Loft           0.069984\n",
       "Microcasa      0.065319\n",
       "Hotel          0.032659\n",
       "Pousada        0.027994\n",
       "Contêiner      0.018663\n",
       "Suíte          0.017107\n",
       "Lugar          0.015552\n",
       "Condomínio     0.015552\n",
       "Trailer        0.003110\n",
       "Name: proportion, dtype: float64"
      ]
     },
     "execution_count": 43,
     "metadata": {},
     "output_type": "execute_result"
    }
   ],
   "source": [
    "# Room types\n",
    "room_types = df['roomType'].value_counts(normalize=True)\n",
    "room_types"
   ]
  },
  {
   "cell_type": "code",
   "execution_count": 44,
   "metadata": {},
   "outputs": [
    {
     "data": {
      "text/html": [
       "<div>\n",
       "<style scoped>\n",
       "    .dataframe tbody tr th:only-of-type {\n",
       "        vertical-align: middle;\n",
       "    }\n",
       "\n",
       "    .dataframe tbody tr th {\n",
       "        vertical-align: top;\n",
       "    }\n",
       "\n",
       "    .dataframe thead th {\n",
       "        text-align: right;\n",
       "    }\n",
       "</style>\n",
       "<table border=\"1\" class=\"dataframe\">\n",
       "  <thead>\n",
       "    <tr style=\"text-align: right;\">\n",
       "      <th></th>\n",
       "      <th>priceCategory</th>\n",
       "      <th>roomType</th>\n",
       "      <th>percentage</th>\n",
       "      <th>averagePrice</th>\n",
       "    </tr>\n",
       "  </thead>\n",
       "  <tbody>\n",
       "    <tr>\n",
       "      <th>0</th>\n",
       "      <td>High price group</td>\n",
       "      <td>Cabana</td>\n",
       "      <td>0.372671</td>\n",
       "      <td>709.100000</td>\n",
       "    </tr>\n",
       "    <tr>\n",
       "      <th>1</th>\n",
       "      <td>High price group</td>\n",
       "      <td>Chalé</td>\n",
       "      <td>0.242236</td>\n",
       "      <td>786.256410</td>\n",
       "    </tr>\n",
       "    <tr>\n",
       "      <th>2</th>\n",
       "      <td>High price group</td>\n",
       "      <td>Apartamento</td>\n",
       "      <td>0.130435</td>\n",
       "      <td>660.238095</td>\n",
       "    </tr>\n",
       "    <tr>\n",
       "      <th>3</th>\n",
       "      <td>Low price group</td>\n",
       "      <td>Quarto</td>\n",
       "      <td>0.347826</td>\n",
       "      <td>147.696429</td>\n",
       "    </tr>\n",
       "    <tr>\n",
       "      <th>4</th>\n",
       "      <td>Low price group</td>\n",
       "      <td>Casa</td>\n",
       "      <td>0.267081</td>\n",
       "      <td>149.604651</td>\n",
       "    </tr>\n",
       "    <tr>\n",
       "      <th>5</th>\n",
       "      <td>Low price group</td>\n",
       "      <td>Microcasa</td>\n",
       "      <td>0.099379</td>\n",
       "      <td>215.625000</td>\n",
       "    </tr>\n",
       "    <tr>\n",
       "      <th>6</th>\n",
       "      <td>Medium price group</td>\n",
       "      <td>Apartamento</td>\n",
       "      <td>0.214953</td>\n",
       "      <td>406.695652</td>\n",
       "    </tr>\n",
       "    <tr>\n",
       "      <th>7</th>\n",
       "      <td>Medium price group</td>\n",
       "      <td>Casa</td>\n",
       "      <td>0.183801</td>\n",
       "      <td>399.843170</td>\n",
       "    </tr>\n",
       "    <tr>\n",
       "      <th>8</th>\n",
       "      <td>Medium price group</td>\n",
       "      <td>Chalé</td>\n",
       "      <td>0.130841</td>\n",
       "      <td>345.309524</td>\n",
       "    </tr>\n",
       "  </tbody>\n",
       "</table>\n",
       "</div>"
      ],
      "text/plain": [
       "        priceCategory     roomType  percentage  averagePrice\n",
       "0    High price group       Cabana    0.372671    709.100000\n",
       "1    High price group        Chalé    0.242236    786.256410\n",
       "2    High price group  Apartamento    0.130435    660.238095\n",
       "3     Low price group       Quarto    0.347826    147.696429\n",
       "4     Low price group         Casa    0.267081    149.604651\n",
       "5     Low price group    Microcasa    0.099379    215.625000\n",
       "6  Medium price group  Apartamento    0.214953    406.695652\n",
       "7  Medium price group         Casa    0.183801    399.843170\n",
       "8  Medium price group        Chalé    0.130841    345.309524"
      ]
     },
     "execution_count": 44,
     "metadata": {},
     "output_type": "execute_result"
    }
   ],
   "source": [
    "# Calculate the average price for each room type within each price group\n",
    "average_prices = df.groupby(['priceCategory', 'roomType'])['roomPrice'].mean().rename('averagePrice').reset_index()\n",
    "\n",
    "# Merge the average prices with the top 3 room types by price group\n",
    "top_3_with_avg_price = pd.merge(top_3_room_types_by_price_group, average_prices, on=['priceCategory', 'roomType'])\n",
    "\n",
    "top_3_with_avg_price\n"
   ]
  }
 ],
 "metadata": {
  "kernelspec": {
   "display_name": "scrapy-venv",
   "language": "python",
   "name": "python3"
  },
  "language_info": {
   "codemirror_mode": {
    "name": "ipython",
    "version": 3
   },
   "file_extension": ".py",
   "mimetype": "text/x-python",
   "name": "python",
   "nbconvert_exporter": "python",
   "pygments_lexer": "ipython3",
   "version": "3.11.9"
  }
 },
 "nbformat": 4,
 "nbformat_minor": 2
}
